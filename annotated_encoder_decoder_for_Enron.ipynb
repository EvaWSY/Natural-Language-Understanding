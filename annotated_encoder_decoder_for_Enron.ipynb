{
  "nbformat": 4,
  "nbformat_minor": 0,
  "metadata": {
    "colab": {
      "name": "annotated_encoder_decoder_for_Enron.ipynb",
      "version": "0.3.2",
      "provenance": [],
      "include_colab_link": true
    },
    "language_info": {
      "codemirror_mode": {
        "name": "ipython",
        "version": 3
      },
      "file_extension": ".py",
      "mimetype": "text/x-python",
      "name": "python",
      "nbconvert_exporter": "python",
      "pygments_lexer": "ipython3",
      "version": "3.6.5"
    },
    "kernelspec": {
      "name": "python3",
      "display_name": "Python 3"
    },
    "accelerator": "GPU"
  },
  "cells": [
    {
      "cell_type": "markdown",
      "metadata": {
        "id": "view-in-github",
        "colab_type": "text"
      },
      "source": [
        "<a href=\"https://colab.research.google.com/github/EvaWSY/Natural-Language-Understanding/blob/master/annotated_encoder_decoder_for_Enron.ipynb\" target=\"_parent\"><img src=\"https://colab.research.google.com/assets/colab-badge.svg\" alt=\"Open In Colab\"/></a>"
      ]
    },
    {
      "metadata": {
        "id": "UXThw958nGSN",
        "colab_type": "text"
      },
      "cell_type": "markdown",
      "source": [
        "# The Annotated Encoder-Decoder with Attention\n",
        "\n",
        "Recently, Alexander Rush wrote a blog post called [The Annotated Transformer](http://nlp.seas.harvard.edu/2018/04/03/attention.html), describing the Transformer model from the paper [Attention is All You Need](https://arxiv.org/abs/1706.03762). This post can be seen as a **prequel** to that: *we will implement an Encoder-Decoder with Attention* using (Gated) Recurrent Neural Networks, very closely following the original attention-based neural machine translation paper [\"Neural Machine Translation by Jointly Learning to Align and Translate\"](https://arxiv.org/abs/1409.0473) of Bahdanau et al. (2015). \n",
        "\n",
        "The idea is that going through both blog posts will make you familiar with two very influential sequence-to-sequence architectures. If you have any comments or suggestions, please let me know on Twitter [@joostbastings](https://twitter.com/joostbastings) or e-mail me at *firstname dot lastname @ gmail dot com*."
      ]
    },
    {
      "metadata": {
        "id": "7MY2XC6anGSO",
        "colab_type": "text"
      },
      "cell_type": "markdown",
      "source": [
        "# Model Architecture\n",
        "\n",
        "We will model the probability $p(Y\\mid X)$ of a target sequence $Y=(y_1, \\dots, y_{N})$ given a source sequence $X=(x_1, \\dots, x_M)$ directly with a neural network: an Encoder-Decoder.\n",
        "\n",
        "<img src=\"https://github.com/bastings/annotated_encoder_decoder/blob/master/images/bahdanau.png?raw=1\" width=\"636\">\n",
        "\n",
        "#### Encoder \n",
        "\n",
        "The encoder reads in the source sentence (*at the bottom of the figure*) and produces a sequence of hidden states $\\mathbf{h}_1, \\dots, \\mathbf{h}_M$, one for each source word. These states should capture the meaning of a word in its context of the given sentence.\n",
        "\n",
        "We will use a bi-directional recurrent neural network (Bi-RNN) as the encoder; a Bi-GRU in particular.\n",
        "\n",
        "First of all we **embed** the source words. \n",
        "We simply look up the **word embedding** for each word in a (randomly initialized) lookup table.\n",
        "We will denote the word embedding for word $i$ in a given sentence with $\\mathbf{x}_i$.\n",
        "By embedding words, our model may exploit the fact that certain words (e.g. *cat* and *dog*) are semantically similar, and can be processed in a similar way.\n",
        "\n",
        "Now, how do we get hidden states $\\mathbf{h}_1, \\dots, \\mathbf{h}_M$? A forward GRU reads the source sentence left-to-right, while a backward GRU reads it right-to-left.\n",
        "Each of them follows a simple recursive formula: \n",
        "$$\\mathbf{h}_j = \\text{GRU}( \\mathbf{x}_j , \\mathbf{h}_{j - 1} )$$\n",
        "i.e. we obtain the next state from the previous state and the current input word embedding.\n",
        "\n",
        "The hidden state of the forward GRU at time step $j$ will know what words **precede** the word at that time step, but it doesn't know what words will follow. In contrast, the backward GRU will only know what words **follow** the word at time step $j$. By **concatenating** those two hidden states (*shown in blue in the figure*), we get $\\mathbf{h}_j$, which captures word $j$ in its full sentence context.\n",
        "\n",
        "\n",
        "#### Decoder \n",
        "\n",
        "The decoder (*at the top of the figure*) is a GRU with hidden state $\\mathbf{s_i}$. It follows a similar formula to the encoder, but takes one extra input $\\mathbf{c}_{i}$ (*shown in yellow*).\n",
        "\n",
        "$$\\mathbf{s}_{i} = f( \\mathbf{s}_{i - 1}, \\mathbf{y}_{i - 1}, \\mathbf{c}_i )$$\n",
        "\n",
        "Here, $\\mathbf{y}_{i - 1}$ is the previously generated target word (*not shown*).\n",
        "\n",
        "At each time step, an **attention mechanism** dynamically selects that part of the source sentence that is most relevant for predicting the current target word. It does so by comparing the last decoder state with each source hidden state. The result is a context vector $\\mathbf{c_i}$ (*shown in yellow*).\n",
        "Later the attention mechanism is explained in more detail.\n",
        "\n",
        "After computing the decoder state $\\mathbf{s}_i$, a non-linear function $g$ (which applies a [softmax](https://en.wikipedia.org/wiki/Softmax_function)) gives us the probability of the target word $y_i$ for this time step:\n",
        "\n",
        "$$ p(y_i \\mid y_{<i}, x_1^M) = g(\\mathbf{s}_i, \\mathbf{c}_i, \\mathbf{y}_{i - 1})$$\n",
        "\n",
        "Because $g$ applies a softmax, it provides a vector the size of the output vocabulary that sums to 1.0: it is a distribution over all target words. During test time, we would select the word with the highest probability for our translation.\n",
        "\n",
        "Now, for optimization, a [cross-entropy loss](https://ml-cheatsheet.readthedocs.io/en/latest/loss_functions.html#cross-entropy) is used to maximize the probability of selecting the correct word at this time step. All parameters (including word embeddings) are then updated to maximize this probability.\n",
        "\n"
      ]
    },
    {
      "metadata": {
        "id": "Zoiz1VNXnGSP",
        "colab_type": "text"
      },
      "cell_type": "markdown",
      "source": [
        "# Prelims\n",
        "\n",
        "This tutorial requires **PyTorch >= 0.4.1** and was tested with **Python 3.6**.  \n",
        "\n",
        "Make sure you have those versions, and install the packages below if you don't have them yet."
      ]
    },
    {
      "metadata": {
        "id": "YHYvgpWInGSP",
        "colab_type": "code",
        "colab": {}
      },
      "cell_type": "code",
      "source": [
        "#!pip install torch numpy matplotlib sacrebleu"
      ],
      "execution_count": 0,
      "outputs": []
    },
    {
      "metadata": {
        "id": "G42pxGssnGSS",
        "colab_type": "code",
        "outputId": "df900cf0-9ceb-4f88-e5de-a0710c2b4370",
        "colab": {
          "base_uri": "https://localhost:8080/",
          "height": 51
        }
      },
      "cell_type": "code",
      "source": [
        "%matplotlib inline\n",
        "import numpy as np\n",
        "import torch\n",
        "import torch.nn as nn\n",
        "import torch.nn.functional as F\n",
        "import math, copy, time\n",
        "import matplotlib.pyplot as plt\n",
        "from torch.nn.utils.rnn import pack_padded_sequence, pad_packed_sequence\n",
        "from IPython.core.debugger import set_trace\n",
        "\n",
        "# we will use CUDA if it is available\n",
        "USE_CUDA = torch.cuda.is_available()\n",
        "DEVICE=torch.device('cuda:0') # or set to 'cpu'\n",
        "print(\"CUDA:\", USE_CUDA)\n",
        "print(DEVICE)\n",
        "\n",
        "seed = 42\n",
        "np.random.seed(seed)\n",
        "torch.manual_seed(seed)\n",
        "torch.cuda.manual_seed(seed)"
      ],
      "execution_count": 0,
      "outputs": [
        {
          "output_type": "stream",
          "text": [
            "CUDA: True\n",
            "cuda:0\n"
          ],
          "name": "stdout"
        }
      ]
    },
    {
      "metadata": {
        "id": "xISF8XZenGSX",
        "colab_type": "text"
      },
      "cell_type": "markdown",
      "source": [
        "# Let's start coding!\n",
        "\n",
        "## Model class\n",
        "\n",
        "Our base model class `EncoderDecoder` is very similar to the one in *The Annotated Transformer*.\n",
        "\n",
        "One difference is that our encoder also returns its final states (`encoder_final` below), which is used to initialize the decoder RNN. We also provide the sequence lengths as the RNNs require those."
      ]
    },
    {
      "metadata": {
        "id": "PKwBcUJsnGSX",
        "colab_type": "code",
        "colab": {}
      },
      "cell_type": "code",
      "source": [
        "class EncoderDecoder(nn.Module):\n",
        "    \"\"\"\n",
        "    A standard Encoder-Decoder architecture. Base for this and many \n",
        "    other models.\n",
        "    \"\"\"\n",
        "    def __init__(self, encoder, decoder, src_embed, trg_embed, generator):\n",
        "        super(EncoderDecoder, self).__init__()\n",
        "        self.encoder = encoder\n",
        "        self.decoder = decoder\n",
        "        self.src_embed = src_embed\n",
        "        self.trg_embed = trg_embed\n",
        "        self.generator = generator\n",
        "        \n",
        "    def forward(self, src, trg, src_mask, trg_mask, src_lengths, trg_lengths):\n",
        "        \"\"\"Take in and process masked src and target sequences.\"\"\"\n",
        "        encoder_hidden, encoder_final = self.encode(src, src_mask, src_lengths)\n",
        "        return self.decode(encoder_hidden, encoder_final, src_mask, trg, trg_mask)\n",
        "    \n",
        "    def encode(self, src, src_mask, src_lengths):\n",
        "        return self.encoder(self.src_embed(src), src_mask, src_lengths)\n",
        "    \n",
        "    def decode(self, encoder_hidden, encoder_final, src_mask, trg, trg_mask,\n",
        "               decoder_hidden=None):\n",
        "        return self.decoder(self.trg_embed(trg), encoder_hidden, encoder_final,\n",
        "                            src_mask, trg_mask, hidden=decoder_hidden)"
      ],
      "execution_count": 0,
      "outputs": []
    },
    {
      "metadata": {
        "id": "3HGntUAHnGSZ",
        "colab_type": "text"
      },
      "cell_type": "markdown",
      "source": [
        "To keep things easy we also keep the `Generator` class the same. \n",
        "It simply projects the pre-output layer ($x$ in the `forward` function below) to obtain the output layer, so that the final dimension is the target vocabulary size."
      ]
    },
    {
      "metadata": {
        "id": "Zd6UA60InGSa",
        "colab_type": "code",
        "colab": {}
      },
      "cell_type": "code",
      "source": [
        "class Generator(nn.Module):\n",
        "    \"\"\"Define standard linear + softmax generation step.\"\"\"\n",
        "    def __init__(self, hidden_size, vocab_size):\n",
        "        super(Generator, self).__init__()\n",
        "        self.proj = nn.Linear(hidden_size, vocab_size, bias=False)\n",
        "\n",
        "    def forward(self, x):\n",
        "        return F.log_softmax(self.proj(x), dim=-1)"
      ],
      "execution_count": 0,
      "outputs": []
    },
    {
      "metadata": {
        "id": "Al-wpg1wnGSc",
        "colab_type": "text"
      },
      "cell_type": "markdown",
      "source": [
        "## Encoder\n",
        "\n",
        "Our encoder is a bi-directional GRU. \n",
        "\n",
        "Because we want to process multiple sentences at the same time for speed reasons (it is more effcient on GPU), we need to support **mini-batches**. Sentences in a mini-batch may have different lengths, which means that the RNN needs to unroll further for certain sentences while it might already have finished for others:\n",
        "\n",
        "```\n",
        "Example: mini-batch with 3 source sentences of different lengths (7, 5, and 3).\n",
        "End-of-sequence is marked with a \"3\" here, and padding positions with \"1\".\n",
        "\n",
        "+---------------+\n",
        "| 4 5 9 8 7 8 3 |\n",
        "+---------------+\n",
        "| 5 4 8 7 3 1 1 |\n",
        "+---------------+\n",
        "| 5 8 3 1 1 1 1 |\n",
        "+---------------+\n",
        "```\n",
        "You can see that, when computing hidden states for this mini-batch, for sentence #2 and #3 we will need to stop updating the hidden state after we have encountered \"3\". We don't want to incorporate the padding values (1s).\n",
        "\n",
        "Luckily, PyTorch has convenient helper functions called `pack_padded_sequence` and `pad_packed_sequence`.\n",
        "These functions take care of masking and padding, so that the resulting word representations are simply zeros after a sentence stops.\n",
        "\n",
        "The code below reads in a source sentence (a sequence of word embeddings) and produces the hidden states.\n",
        "It also returns a final vector, a summary of the complete sentence, by concatenating the first and the last hidden states (they have both seen the whole sentence, each in a different direction). We will use the final vector to initialize the decoder."
      ]
    },
    {
      "metadata": {
        "id": "nIEgd_pCnGSe",
        "colab_type": "code",
        "colab": {}
      },
      "cell_type": "code",
      "source": [
        "class Encoder(nn.Module):\n",
        "    \"\"\"Encodes a sequence of word embeddings\"\"\"\n",
        "    def __init__(self, input_size, hidden_size, num_layers=1, dropout=0.):\n",
        "        super(Encoder, self).__init__()\n",
        "        self.num_layers = num_layers\n",
        "        self.rnn = nn.GRU(input_size, hidden_size, num_layers, \n",
        "                          batch_first=True, bidirectional=True, dropout=dropout)\n",
        "        \n",
        "    def forward(self, x, mask, lengths):\n",
        "        \"\"\"\n",
        "        Applies a bidirectional GRU to sequence of embeddings x.\n",
        "        The input mini-batch x needs to be sorted by length.\n",
        "        x should have dimensions [batch, time, dim].\n",
        "        \"\"\"\n",
        "        packed = pack_padded_sequence(x, lengths, batch_first=True)\n",
        "        output, final = self.rnn(packed)\n",
        "        output, _ = pad_packed_sequence(output, batch_first=True)\n",
        "\n",
        "        # we need to manually concatenate the final states for both directions\n",
        "        fwd_final = final[0:final.size(0):2]\n",
        "        bwd_final = final[1:final.size(0):2]\n",
        "        final = torch.cat([fwd_final, bwd_final], dim=2)  # [num_layers, batch, 2*dim]\n",
        "\n",
        "        return output, final"
      ],
      "execution_count": 0,
      "outputs": []
    },
    {
      "metadata": {
        "id": "BR0ytFfjnGSg",
        "colab_type": "text"
      },
      "cell_type": "markdown",
      "source": [
        "### Decoder\n",
        "\n",
        "The decoder is a conditional GRU. Rather than starting with an empty state like the encoder, its initial hidden state results from a projection of the encoder final vector. \n",
        "\n",
        "#### Training\n",
        "In `forward` you can find a for-loop that computes the decoder hidden states one time step at a time. \n",
        "Note that, during training, we know exactly what the target words should be! (They are in `trg_embed`.) This means that we are not even checking here what the prediction is! We simply feed the correct previous target word embedding to the GRU at each time step. This is called teacher forcing.\n",
        "\n",
        "The `forward` function returns all decoder hidden states and pre-output vectors. Elsewhere these are used to compute the loss, after which the parameters are updated.\n",
        "\n",
        "#### Prediction\n",
        "For prediction time, for forward function is only used for a single time step. After predicting a word from the returned pre-output vector, we can call it again, supplying it the word embedding of the previously predicted word and the last state."
      ]
    },
    {
      "metadata": {
        "id": "oSMi66_-nGSh",
        "colab_type": "code",
        "colab": {}
      },
      "cell_type": "code",
      "source": [
        "class Decoder(nn.Module):\n",
        "    \"\"\"A conditional RNN decoder with attention.\"\"\"\n",
        "    \n",
        "    def __init__(self, emb_size, hidden_size, attention, num_layers=1, dropout=0.5,\n",
        "                 bridge=True):\n",
        "        super(Decoder, self).__init__()\n",
        "        \n",
        "        self.hidden_size = hidden_size\n",
        "        self.num_layers = num_layers\n",
        "        self.attention = attention\n",
        "        self.dropout = dropout\n",
        "                 \n",
        "        self.rnn = nn.GRU(emb_size + 2*hidden_size, hidden_size, num_layers,\n",
        "                          batch_first=True, dropout=dropout)\n",
        "                 \n",
        "        # to initialize from the final encoder state\n",
        "        self.bridge = nn.Linear(2*hidden_size, hidden_size, bias=True) if bridge else None\n",
        "\n",
        "        self.dropout_layer = nn.Dropout(p=dropout)\n",
        "        self.pre_output_layer = nn.Linear(hidden_size + 2*hidden_size + emb_size,\n",
        "                                          hidden_size, bias=False)\n",
        "        \n",
        "    def forward_step(self, prev_embed, encoder_hidden, src_mask, proj_key, hidden):\n",
        "        \"\"\"Perform a single decoder step (1 word)\"\"\"\n",
        "\n",
        "        # compute context vector using attention mechanism\n",
        "        query = hidden[-1].unsqueeze(1)  # [#layers, B, D] -> [B, 1, D]\n",
        "        context, attn_probs = self.attention(\n",
        "            query=query, proj_key=proj_key,\n",
        "            value=encoder_hidden, mask=src_mask)\n",
        "\n",
        "        # update rnn hidden state\n",
        "        rnn_input = torch.cat([prev_embed, context], dim=2)\n",
        "        output, hidden = self.rnn(rnn_input, hidden)\n",
        "        \n",
        "        pre_output = torch.cat([prev_embed, output, context], dim=2)\n",
        "        pre_output = self.dropout_layer(pre_output)\n",
        "        pre_output = self.pre_output_layer(pre_output)\n",
        "\n",
        "        return output, hidden, pre_output\n",
        "    \n",
        "    def forward(self, trg_embed, encoder_hidden, encoder_final, \n",
        "                src_mask, trg_mask, hidden=None, max_len=None):\n",
        "        \"\"\"Unroll the decoder one step at a time.\"\"\"\n",
        "                                         \n",
        "        # the maximum number of steps to unroll the RNN\n",
        "        if max_len is None:\n",
        "            max_len = trg_mask.size(-1)\n",
        "\n",
        "        # initialize decoder hidden state\n",
        "        if hidden is None:\n",
        "            hidden = self.init_hidden(encoder_final)\n",
        "        \n",
        "        # pre-compute projected encoder hidden states\n",
        "        # (the \"keys\" for the attention mechanism)\n",
        "        # this is only done for efficiency\n",
        "        proj_key = self.attention.key_layer(encoder_hidden)\n",
        "        \n",
        "        # here we store all intermediate hidden states and pre-output vectors\n",
        "        decoder_states = []\n",
        "        pre_output_vectors = []\n",
        "        \n",
        "        # unroll the decoder RNN for max_len steps\n",
        "        for i in range(max_len):\n",
        "            prev_embed = trg_embed[:, i].unsqueeze(1)\n",
        "            output, hidden, pre_output = self.forward_step(\n",
        "              prev_embed, encoder_hidden, src_mask, proj_key, hidden)\n",
        "            decoder_states.append(output)\n",
        "            pre_output_vectors.append(pre_output)\n",
        "\n",
        "        decoder_states = torch.cat(decoder_states, dim=1)\n",
        "        pre_output_vectors = torch.cat(pre_output_vectors, dim=1)\n",
        "        return decoder_states, hidden, pre_output_vectors  # [B, N, D]\n",
        "\n",
        "    def init_hidden(self, encoder_final):\n",
        "        \"\"\"Returns the initial decoder state,\n",
        "        conditioned on the final encoder state.\"\"\"\n",
        "\n",
        "        if encoder_final is None:\n",
        "            return None  # start with zeros\n",
        "\n",
        "        return torch.tanh(self.bridge(encoder_final))            \n"
      ],
      "execution_count": 0,
      "outputs": []
    },
    {
      "metadata": {
        "id": "o4kwQV64nGSk",
        "colab_type": "text"
      },
      "cell_type": "markdown",
      "source": [
        "### Attention                                                                                                                                                                               \n",
        "\n",
        "At every time step, the decoder has access to *all* source word representations $\\mathbf{h}_1, \\dots, \\mathbf{h}_M$. \n",
        "An attention mechanism allows the model to focus on the currently most relevant part of the source sentence.\n",
        "The state of the decoder is represented by GRU hidden state $\\mathbf{s}_i$.\n",
        "So if we want to know which source word representation(s) $\\mathbf{h}_j$ are most relevant, we will need to define a function that takes those two things as input.\n",
        "\n",
        "Here we use the MLP-based, additive attention that was used in Bahdanau et al.:\n",
        "\n",
        "<img src=\"https://github.com/bastings/annotated_encoder_decoder/blob/master/images/attention.png?raw=1\" width=\"280\">\n",
        "\n",
        "\n",
        "We apply an MLP with tanh-activation to both the current decoder state $\\bf s_i$ (the *query*) and each encoder state $\\bf h_j$ (the *key*), and then project this to a single value (i.e. a scalar) to get the *attention energy* $e_{ij}$. \n",
        "\n",
        "Once all energies are computed, they are normalized by a softmax so that they sum to one: \n",
        "\n",
        "$$ \\alpha_{ij} = \\text{softmax}(\\mathbf{e}_i)[j] $$\n",
        "\n",
        "$$\\sum_j \\alpha_{ij} = 1.0$$ \n",
        "\n",
        "The context vector for time step $i$ is then a weighted sum of the encoder hidden states (the *values*):\n",
        "$$\\mathbf{c}_i = \\sum_j \\alpha_{ij} \\mathbf{h}_j$$"
      ]
    },
    {
      "metadata": {
        "id": "uHfjx9xInGSl",
        "colab_type": "code",
        "colab": {}
      },
      "cell_type": "code",
      "source": [
        "class BahdanauAttention(nn.Module):\n",
        "    \"\"\"Implements Bahdanau (MLP) attention\"\"\"\n",
        "    \n",
        "    def __init__(self, hidden_size, key_size=None, query_size=None):\n",
        "        super(BahdanauAttention, self).__init__()\n",
        "        \n",
        "        # We assume a bi-directional encoder so key_size is 2*hidden_size\n",
        "        key_size = 2 * hidden_size if key_size is None else key_size\n",
        "        query_size = hidden_size if query_size is None else query_size\n",
        "\n",
        "        self.key_layer = nn.Linear(key_size, hidden_size, bias=False)\n",
        "        self.query_layer = nn.Linear(query_size, hidden_size, bias=False)\n",
        "        self.energy_layer = nn.Linear(hidden_size, 1, bias=False)\n",
        "        \n",
        "        # to store attention scores\n",
        "        self.alphas = None\n",
        "        \n",
        "    def forward(self, query=None, proj_key=None, value=None, mask=None):\n",
        "        assert mask is not None, \"mask is required\"\n",
        "\n",
        "        # We first project the query (the decoder state).\n",
        "        # The projected keys (the encoder states) were already pre-computated.\n",
        "        query = self.query_layer(query)\n",
        "        \n",
        "        # Calculate scores.\n",
        "        scores = self.energy_layer(torch.tanh(query + proj_key))\n",
        "        scores = scores.squeeze(2).unsqueeze(1)\n",
        "        \n",
        "        # Mask out invalid positions.\n",
        "        # The mask marks valid positions so we invert it using `mask & 0`.\n",
        "        scores.data.masked_fill_(mask == 0, -float('inf'))\n",
        "        \n",
        "        # Turn scores to probabilities.\n",
        "        alphas = F.softmax(scores, dim=-1)\n",
        "        self.alphas = alphas        \n",
        "        \n",
        "        # The context vector is the weighted sum of the values.\n",
        "        context = torch.bmm(alphas, value)\n",
        "        \n",
        "        # context shape: [B, 1, 2D], alphas shape: [B, 1, M]\n",
        "        return context, alphas"
      ],
      "execution_count": 0,
      "outputs": []
    },
    {
      "metadata": {
        "id": "kztyUAzgnGSq",
        "colab_type": "text"
      },
      "cell_type": "markdown",
      "source": [
        "## Embeddings and Softmax                                                                                                                                                                                                                                                                                           \n",
        "We use learned embeddings to convert the input tokens and output tokens to vectors of dimension `emb_size`.\n",
        "\n",
        "We will simply use PyTorch's [nn.Embedding](https://pytorch.org/docs/stable/nn.html?highlight=embedding#torch.nn.Embedding) class."
      ]
    },
    {
      "metadata": {
        "id": "LD0ymjRVnGSr",
        "colab_type": "text"
      },
      "cell_type": "markdown",
      "source": [
        "## Full Model\n",
        "\n",
        "Here we define a function from hyperparameters to a full model. "
      ]
    },
    {
      "metadata": {
        "id": "iNDMZaRjnGSs",
        "colab_type": "code",
        "colab": {}
      },
      "cell_type": "code",
      "source": [
        "def make_model(src_vocab, tgt_vocab, emb_size=256, hidden_size=512, num_layers=1, dropout=0.1):\n",
        "    \"Helper: Construct a model from hyperparameters.\"\n",
        "\n",
        "    attention = BahdanauAttention(hidden_size)\n",
        "\n",
        "    model = EncoderDecoder(\n",
        "        Encoder(emb_size, hidden_size, num_layers=num_layers, dropout=dropout),\n",
        "        Decoder(emb_size, hidden_size, attention, num_layers=num_layers, dropout=dropout),\n",
        "        nn.Embedding(src_vocab, emb_size),\n",
        "        nn.Embedding(tgt_vocab, emb_size),\n",
        "        Generator(hidden_size, tgt_vocab))\n",
        "\n",
        "    return model.cuda() if USE_CUDA else model"
      ],
      "execution_count": 0,
      "outputs": []
    },
    {
      "metadata": {
        "id": "n2bcDlknnGSv",
        "colab_type": "text"
      },
      "cell_type": "markdown",
      "source": [
        "# Training\n",
        "\n",
        "This section describes the training regime for our models."
      ]
    },
    {
      "metadata": {
        "id": "3Mg2Lz3QnGSw",
        "colab_type": "text"
      },
      "cell_type": "markdown",
      "source": [
        "We stop for a quick interlude to introduce some of the tools \n",
        "needed to train a standard encoder decoder model. First we define a batch object that holds the src and target sentences for training, as well as their lengths and masks. "
      ]
    },
    {
      "metadata": {
        "id": "96mlMlkWnGSz",
        "colab_type": "text"
      },
      "cell_type": "markdown",
      "source": [
        "## Batches and Masking"
      ]
    },
    {
      "metadata": {
        "id": "OETxE22DnGS0",
        "colab_type": "code",
        "colab": {}
      },
      "cell_type": "code",
      "source": [
        "class Batch:\n",
        "    \"\"\"Object for holding a batch of data with mask during training.\n",
        "    Input is a batch from a torch text iterator.\n",
        "    \"\"\"\n",
        "    def __init__(self, src, trg, pad_index=0):\n",
        "        \n",
        "        src, src_lengths = src\n",
        "        \n",
        "        self.src = src\n",
        "        self.src_lengths = src_lengths\n",
        "        self.src_mask = (src != pad_index).unsqueeze(-2)\n",
        "        self.nseqs = src.size(0)\n",
        "        \n",
        "        self.trg = None\n",
        "        self.trg_y = None\n",
        "        self.trg_mask = None\n",
        "        self.trg_lengths = None\n",
        "        self.ntokens = None\n",
        "\n",
        "        if trg is not None:\n",
        "            trg, trg_lengths = trg\n",
        "            self.trg = trg[:, :-1]\n",
        "            self.trg_lengths = trg_lengths\n",
        "            self.trg_y = trg[:, 1:]\n",
        "            self.trg_mask = (self.trg_y != pad_index)\n",
        "            self.ntokens = (self.trg_y != pad_index).data.sum().item()\n",
        "        \n",
        "        if USE_CUDA:\n",
        "            self.src = self.src.cuda()\n",
        "            self.src_mask = self.src_mask.cuda()\n",
        "\n",
        "            if trg is not None:\n",
        "                self.trg = self.trg.cuda()\n",
        "                self.trg_y = self.trg_y.cuda()\n",
        "                self.trg_mask = self.trg_mask.cuda()\n",
        "                "
      ],
      "execution_count": 0,
      "outputs": []
    },
    {
      "metadata": {
        "id": "LJfzmvxPnGS2",
        "colab_type": "text"
      },
      "cell_type": "markdown",
      "source": [
        "## Training Loop\n",
        "The code below trains the model for 1 epoch (=1 pass through the training data)."
      ]
    },
    {
      "metadata": {
        "id": "R80_GLYVnGS3",
        "colab_type": "code",
        "colab": {}
      },
      "cell_type": "code",
      "source": [
        "def run_epoch(data_iter, model, loss_compute, print_every=50):\n",
        "    \"\"\"Standard Training and Logging Function\"\"\"\n",
        "\n",
        "    start = time.time()\n",
        "    total_tokens = 0\n",
        "    total_loss = 0\n",
        "    print_tokens = 0\n",
        "\n",
        "    for i, batch in enumerate(data_iter, 1):\n",
        "        \n",
        "        out, _, pre_output = model.forward(batch.src, batch.trg,\n",
        "                                           batch.src_mask, batch.trg_mask,\n",
        "                                           batch.src_lengths, batch.trg_lengths)\n",
        "        loss = loss_compute(pre_output, batch.trg_y, batch.nseqs)\n",
        "        total_loss += loss\n",
        "        total_tokens += batch.ntokens\n",
        "        print_tokens += batch.ntokens\n",
        "        \n",
        "        if model.training and i % print_every == 0:\n",
        "            elapsed = time.time() - start\n",
        "            print(\"Epoch Step: %d Loss: %f Tokens per Sec: %f\" %\n",
        "                    (i, loss / batch.nseqs, print_tokens / elapsed))\n",
        "            start = time.time()\n",
        "            print_tokens = 0\n",
        "\n",
        "    return math.exp(total_loss / float(total_tokens))"
      ],
      "execution_count": 0,
      "outputs": []
    },
    {
      "metadata": {
        "id": "wwsxcGfRnGS4",
        "colab_type": "text"
      },
      "cell_type": "markdown",
      "source": [
        "## Training Data and Batching\n",
        "\n",
        "We will use torch text for batching. This is discussed in more detail below. "
      ]
    },
    {
      "metadata": {
        "id": "-duZCbxjnGS5",
        "colab_type": "text"
      },
      "cell_type": "markdown",
      "source": [
        "## Optimizer\n",
        "\n",
        "We will use the [Adam optimizer](https://arxiv.org/abs/1412.6980) with default settings ($\\beta_1=0.9$, $\\beta_2=0.999$ and $\\epsilon=10^{-8}$).\n",
        "\n",
        "We will use $0.0003$ as the learning rate here, but for different problems another learning rate may be more appropriate. You will have to tune that."
      ]
    },
    {
      "metadata": {
        "id": "PSo1Hz_KnGS5",
        "colab_type": "text"
      },
      "cell_type": "markdown",
      "source": [
        "# A First  Example (just ignore this)\n",
        "\n",
        "We can begin by trying out a simple copy-task. Given a random set of input symbols from a small vocabulary, the goal is to generate back those same symbols. "
      ]
    },
    {
      "metadata": {
        "id": "Npre0feqnGS6",
        "colab_type": "text"
      },
      "cell_type": "markdown",
      "source": [
        "## Synthetic Data"
      ]
    },
    {
      "metadata": {
        "id": "mAlYh1HxnGS6",
        "colab_type": "code",
        "colab": {}
      },
      "cell_type": "code",
      "source": [
        "def data_gen(num_words=11, batch_size=16, num_batches=100, length=10, pad_index=0, sos_index=1):\n",
        "    \"\"\"Generate random data for a src-tgt copy task.\"\"\"\n",
        "    for i in range(num_batches):\n",
        "        data = torch.from_numpy(\n",
        "          np.random.randint(1, num_words, size=(batch_size, length)))\n",
        "        data[:, 0] = sos_index\n",
        "        data = data.cuda() if USE_CUDA else data\n",
        "        src = data[:, 1:]\n",
        "        trg = data\n",
        "        src_lengths = [length-1] * batch_size\n",
        "        trg_lengths = [length] * batch_size\n",
        "        yield Batch((src, src_lengths), (trg, trg_lengths), pad_index=pad_index)"
      ],
      "execution_count": 0,
      "outputs": []
    },
    {
      "metadata": {
        "id": "zeRkQcaQnGS9",
        "colab_type": "text"
      },
      "cell_type": "markdown",
      "source": [
        "## Loss Computation"
      ]
    },
    {
      "metadata": {
        "id": "O1Oa_6D9nGS-",
        "colab_type": "code",
        "colab": {}
      },
      "cell_type": "code",
      "source": [
        "class SimpleLossCompute:\n",
        "    \"\"\"A simple loss compute and train function.\"\"\"\n",
        "\n",
        "    def __init__(self, generator, criterion, opt=None):\n",
        "        self.generator = generator\n",
        "        self.criterion = criterion\n",
        "        self.opt = opt\n",
        "\n",
        "    def __call__(self, x, y, norm):\n",
        "        x = self.generator(x)\n",
        "        loss = self.criterion(x.contiguous().view(-1, x.size(-1)),\n",
        "                              y.contiguous().view(-1))\n",
        "        loss = loss / norm\n",
        "\n",
        "        if self.opt is not None:\n",
        "            loss.backward()          \n",
        "            self.opt.step()\n",
        "            self.opt.zero_grad()\n",
        "\n",
        "        return loss.data.item() * norm"
      ],
      "execution_count": 0,
      "outputs": []
    },
    {
      "metadata": {
        "id": "FV8uVFyDnGTA",
        "colab_type": "text"
      },
      "cell_type": "markdown",
      "source": [
        "### Printing examples\n",
        "\n",
        "To monitor progress during training, we will translate a few examples.\n",
        "\n",
        "We use greedy decoding for simplicity; that is, at each time step, starting at the first token, we choose the one with that maximum probability, and we never revisit that choice. "
      ]
    },
    {
      "metadata": {
        "id": "_iIh8WkSnGTB",
        "colab_type": "code",
        "colab": {}
      },
      "cell_type": "code",
      "source": [
        "def greedy_decode(model, src, src_mask, src_lengths, max_len=100, sos_index=1, eos_index=None):\n",
        "    \"\"\"Greedily decode a sentence.\"\"\"\n",
        "\n",
        "    with torch.no_grad():\n",
        "        encoder_hidden, encoder_final = model.encode(src, src_mask, src_lengths)\n",
        "        prev_y = torch.ones(1, 1).fill_(sos_index).type_as(src)\n",
        "        trg_mask = torch.ones_like(prev_y)\n",
        "\n",
        "    output = []\n",
        "    attention_scores = []\n",
        "    hidden = None\n",
        "\n",
        "    for i in range(max_len):\n",
        "        with torch.no_grad():\n",
        "            out, hidden, pre_output = model.decode(\n",
        "              encoder_hidden, encoder_final, src_mask,\n",
        "              prev_y, trg_mask, hidden)\n",
        "\n",
        "            # we predict from the pre-output layer, which is\n",
        "            # a combination of Decoder state, prev emb, and context\n",
        "            prob = model.generator(pre_output[:, -1])\n",
        "\n",
        "        _, next_word = torch.max(prob, dim=1)\n",
        "        next_word = next_word.data.item()\n",
        "        output.append(next_word)\n",
        "        prev_y = torch.ones(1, 1).type_as(src).fill_(next_word)\n",
        "        attention_scores.append(model.decoder.attention.alphas.cpu().numpy())\n",
        "    \n",
        "    output = np.array(output)\n",
        "        \n",
        "    # cut off everything starting from </s> \n",
        "    # (only when eos_index provided)\n",
        "    if eos_index is not None:\n",
        "        first_eos = np.where(output==eos_index)[0]\n",
        "        if len(first_eos) > 0:\n",
        "            output = output[:first_eos[0]]      \n",
        "    \n",
        "    return output, np.concatenate(attention_scores, axis=1)\n",
        "  \n",
        "\n",
        "def lookup_words(x, vocab=None):\n",
        "    if vocab is not None:\n",
        "        x = [vocab.itos[i] for i in x]\n",
        "\n",
        "    return [str(t) for t in x]"
      ],
      "execution_count": 0,
      "outputs": []
    },
    {
      "metadata": {
        "id": "PWCm65CynGTE",
        "colab_type": "code",
        "colab": {}
      },
      "cell_type": "code",
      "source": [
        "def print_examples(example_iter, model, n=2, max_len=100, \n",
        "                   sos_index=1, \n",
        "                   src_eos_index=None, \n",
        "                   trg_eos_index=None, \n",
        "                   src_vocab=None, trg_vocab=None):\n",
        "    \"\"\"Prints N examples. Assumes batch size of 1.\"\"\"\n",
        "\n",
        "    model.eval()\n",
        "    count = 0\n",
        "    print()\n",
        "    \n",
        "    if src_vocab is not None and trg_vocab is not None:\n",
        "        src_eos_index = src_vocab.stoi[EOS_TOKEN]\n",
        "        trg_sos_index = trg_vocab.stoi[SOS_TOKEN]\n",
        "        trg_eos_index = trg_vocab.stoi[EOS_TOKEN]\n",
        "    else:\n",
        "        src_eos_index = None\n",
        "        trg_sos_index = 1\n",
        "        trg_eos_index = None\n",
        "        \n",
        "    for i, batch in enumerate(example_iter):\n",
        "      \n",
        "        src = batch.src.cpu().numpy()[0, :]\n",
        "        trg = batch.trg_y.cpu().numpy()[0, :]\n",
        "\n",
        "        # remove </s> (if it is there)\n",
        "        src = src[:-1] if src[-1] == src_eos_index else src\n",
        "        trg = trg[:-1] if trg[-1] == trg_eos_index else trg      \n",
        "      \n",
        "        result, _ = greedy_decode(\n",
        "          model, batch.src, batch.src_mask, batch.src_lengths,\n",
        "          max_len=max_len, sos_index=trg_sos_index, eos_index=trg_eos_index)\n",
        "        print(\"Example #%d\" % (i+1))\n",
        "        print(\"Src : \", \" \".join(lookup_words(src, vocab=src_vocab)))\n",
        "        print(\"Trg : \", \" \".join(lookup_words(trg, vocab=trg_vocab)))\n",
        "        print(\"Pred: \", \" \".join(lookup_words(result, vocab=trg_vocab)))\n",
        "        print()\n",
        "        \n",
        "        count += 1\n",
        "        if count == n:\n",
        "            break"
      ],
      "execution_count": 0,
      "outputs": []
    },
    {
      "metadata": {
        "id": "HEj4gpNLnGTH",
        "colab_type": "text"
      },
      "cell_type": "markdown",
      "source": [
        "## Training the copy task"
      ]
    },
    {
      "metadata": {
        "scrolled": false,
        "id": "wbjeLPTknGTI",
        "colab_type": "code",
        "colab": {}
      },
      "cell_type": "code",
      "source": [
        "def train_copy_task():\n",
        "    \"\"\"Train the simple copy task.\"\"\"\n",
        "    num_words = 11\n",
        "    criterion = nn.NLLLoss(reduction=\"sum\", ignore_index=0)\n",
        "    model = make_model(num_words, num_words, emb_size=32, hidden_size=64)\n",
        "    optim = torch.optim.Adam(model.parameters(), lr=0.0003)\n",
        "    eval_data = list(data_gen(num_words=num_words, batch_size=1, num_batches=100))\n",
        " \n",
        "    dev_perplexities = []\n",
        "    \n",
        "    if USE_CUDA:\n",
        "        model.cuda()\n",
        "\n",
        "    for epoch in range(10):\n",
        "        \n",
        "        print(\"Epoch %d\" % epoch)\n",
        "\n",
        "        # train\n",
        "        model.train()\n",
        "        data = data_gen(num_words=num_words, batch_size=32, num_batches=100)\n",
        "        run_epoch(data, model,\n",
        "                  SimpleLossCompute(model.generator, criterion, optim))\n",
        "\n",
        "        # evaluate\n",
        "        model.eval()\n",
        "        with torch.no_grad(): \n",
        "            perplexity = run_epoch(eval_data, model,\n",
        "                                   SimpleLossCompute(model.generator, criterion, None))\n",
        "            print(\"Evaluation perplexity: %f\" % perplexity)\n",
        "            dev_perplexities.append(perplexity)\n",
        "            print_examples(eval_data, model, n=2, max_len=9)\n",
        "        \n",
        "    return dev_perplexities"
      ],
      "execution_count": 0,
      "outputs": []
    },
    {
      "metadata": {
        "scrolled": false,
        "id": "0lTHGxe5nGTJ",
        "colab_type": "code",
        "outputId": "4c462fb5-f7e0-4ca5-8643-81e001f8d0b5",
        "colab": {
          "base_uri": "https://localhost:8080/",
          "height": 2899
        }
      },
      "cell_type": "code",
      "source": [
        "# train the copy task\n",
        "dev_perplexities = train_copy_task()\n",
        "\n",
        "def plot_perplexity(perplexities):\n",
        "    \"\"\"plot perplexities\"\"\"\n",
        "    plt.title(\"Perplexity per Epoch\")\n",
        "    plt.xlabel(\"Epoch\")\n",
        "    plt.ylabel(\"Perplexity\")\n",
        "    plt.plot(perplexities)\n",
        "    \n",
        "plot_perplexity(dev_perplexities)"
      ],
      "execution_count": 0,
      "outputs": [
        {
          "output_type": "stream",
          "text": [
            "/usr/local/lib/python3.6/dist-packages/torch/nn/modules/rnn.py:46: UserWarning: dropout option adds dropout after all but last recurrent layer, so non-zero dropout expects num_layers greater than 1, but got dropout=0.1 and num_layers=1\n",
            "  \"num_layers={}\".format(dropout, num_layers))\n"
          ],
          "name": "stderr"
        },
        {
          "output_type": "stream",
          "text": [
            "Epoch 0\n",
            "Epoch Step: 50 Loss: 19.669344 Tokens per Sec: 16420.981061\n",
            "Epoch Step: 100 Loss: 17.806816 Tokens per Sec: 16690.365827\n",
            "Evaluation perplexity: 7.155217\n",
            "\n",
            "Example #1\n",
            "Src :  4 8 5 7 10 3 7 8 5\n",
            "Trg :  4 8 5 7 10 3 7 8 5\n",
            "Pred:  5 8 7 5 8 7 5 5 8\n",
            "\n",
            "Example #2\n",
            "Src :  8 8 3 6 5 2 8 6 2\n",
            "Trg :  8 8 3 6 5 2 8 6 2\n",
            "Pred:  8 8 8 8 8 8 8 8 8\n",
            "\n",
            "Epoch 1\n",
            "Epoch Step: 50 Loss: 15.364892 Tokens per Sec: 16814.665998\n",
            "Epoch Step: 100 Loss: 11.802358 Tokens per Sec: 16787.666322\n",
            "Evaluation perplexity: 3.750408\n",
            "\n",
            "Example #1\n",
            "Src :  4 8 5 7 10 3 7 8 5\n",
            "Trg :  4 8 5 7 10 3 7 8 5\n",
            "Pred:  4 8 5 7 5 3 8 7 5\n",
            "\n",
            "Example #2\n",
            "Src :  8 8 3 6 5 2 8 6 2\n",
            "Trg :  8 8 3 6 5 2 8 6 2\n",
            "Pred:  8 8 3 8 2 5 8 3 2\n",
            "\n",
            "Epoch 2\n",
            "Epoch Step: 50 Loss: 10.040525 Tokens per Sec: 16771.816407\n",
            "Epoch Step: 100 Loss: 9.003312 Tokens per Sec: 16777.518927\n",
            "Evaluation perplexity: 2.564999\n",
            "\n",
            "Example #1\n",
            "Src :  4 8 5 7 10 3 7 8 5\n",
            "Trg :  4 8 5 7 10 3 7 8 5\n",
            "Pred:  4 8 5 7 3 5 8 7 5\n",
            "\n",
            "Example #2\n",
            "Src :  8 8 3 6 5 2 8 6 2\n",
            "Trg :  8 8 3 6 5 2 8 6 2\n",
            "Pred:  8 8 3 8 5 2 6 8 2\n",
            "\n",
            "Epoch 3\n",
            "Epoch Step: 50 Loss: 7.109804 Tokens per Sec: 16790.102404\n",
            "Epoch Step: 100 Loss: 6.335828 Tokens per Sec: 16726.219615\n",
            "Evaluation perplexity: 2.031718\n",
            "\n",
            "Example #1\n",
            "Src :  4 8 5 7 10 3 7 8 5\n",
            "Trg :  4 8 5 7 10 3 7 8 5\n",
            "Pred:  4 8 5 7 3 5 8 7 5\n",
            "\n",
            "Example #2\n",
            "Src :  8 8 3 6 5 2 8 6 2\n",
            "Trg :  8 8 3 6 5 2 8 6 2\n",
            "Pred:  8 8 3 6 2 5 8 8 6\n",
            "\n",
            "Epoch 4\n",
            "Epoch Step: 50 Loss: 5.750995 Tokens per Sec: 16691.205292\n",
            "Epoch Step: 100 Loss: 4.868276 Tokens per Sec: 16731.121760\n",
            "Evaluation perplexity: 1.743124\n",
            "\n",
            "Example #1\n",
            "Src :  4 8 5 7 10 3 7 8 5\n",
            "Trg :  4 8 5 7 10 3 7 8 5\n",
            "Pred:  4 8 5 7 3 5 8 7 10\n",
            "\n",
            "Example #2\n",
            "Src :  8 8 3 6 5 2 8 6 2\n",
            "Trg :  8 8 3 6 5 2 8 6 2\n",
            "Pred:  8 8 3 6 5 2 8 6 2\n",
            "\n",
            "Epoch 5\n",
            "Epoch Step: 50 Loss: 5.485379 Tokens per Sec: 16221.316006\n",
            "Epoch Step: 100 Loss: 4.179917 Tokens per Sec: 16735.651151\n",
            "Evaluation perplexity: 1.576094\n",
            "\n",
            "Example #1\n",
            "Src :  4 8 5 7 10 3 7 8 5\n",
            "Trg :  4 8 5 7 10 3 7 8 5\n",
            "Pred:  4 8 5 7 3 10 5 7 8\n",
            "\n",
            "Example #2\n",
            "Src :  8 8 3 6 5 2 8 6 2\n",
            "Trg :  8 8 3 6 5 2 8 6 2\n",
            "Pred:  8 8 3 6 5 2 8 8 6\n",
            "\n",
            "Epoch 6\n",
            "Epoch Step: 50 Loss: 4.033307 Tokens per Sec: 16369.830043\n",
            "Epoch Step: 100 Loss: 3.637259 Tokens per Sec: 16743.556800\n",
            "Evaluation perplexity: 1.447348\n",
            "\n",
            "Example #1\n",
            "Src :  4 8 5 7 10 3 7 8 5\n",
            "Trg :  4 8 5 7 10 3 7 8 5\n",
            "Pred:  4 8 5 7 10 3 5 8 7\n",
            "\n",
            "Example #2\n",
            "Src :  8 8 3 6 5 2 8 6 2\n",
            "Trg :  8 8 3 6 5 2 8 6 2\n",
            "Pred:  8 8 3 6 5 2 8 8 6\n",
            "\n",
            "Epoch 7\n",
            "Epoch Step: 50 Loss: 2.866787 Tokens per Sec: 16660.035787\n",
            "Epoch Step: 100 Loss: 2.357472 Tokens per Sec: 16623.577205\n",
            "Evaluation perplexity: 1.329341\n",
            "\n",
            "Example #1\n",
            "Src :  4 8 5 7 10 3 7 8 5\n",
            "Trg :  4 8 5 7 10 3 7 8 5\n",
            "Pred:  4 8 5 7 10 3 7 8 5\n",
            "\n",
            "Example #2\n",
            "Src :  8 8 3 6 5 2 8 6 2\n",
            "Trg :  8 8 3 6 5 2 8 6 2\n",
            "Pred:  8 8 3 6 5 2 8 6 2\n",
            "\n",
            "Epoch 8\n",
            "Epoch Step: 50 Loss: 1.990461 Tokens per Sec: 16534.829183\n",
            "Epoch Step: 100 Loss: 2.140210 Tokens per Sec: 16831.108274\n",
            "Evaluation perplexity: 1.255333\n",
            "\n",
            "Example #1\n",
            "Src :  4 8 5 7 10 3 7 8 5\n",
            "Trg :  4 8 5 7 10 3 7 8 5\n",
            "Pred:  4 8 5 7 10 3 7 8 5\n",
            "\n",
            "Example #2\n",
            "Src :  8 8 3 6 5 2 8 6 2\n",
            "Trg :  8 8 3 6 5 2 8 6 2\n",
            "Pred:  8 8 3 6 5 2 8 6 2\n",
            "\n",
            "Epoch 9\n",
            "Epoch Step: 50 Loss: 2.076617 Tokens per Sec: 16752.236554\n",
            "Epoch Step: 100 Loss: 2.136273 Tokens per Sec: 16711.313080\n",
            "Evaluation perplexity: 1.184765\n",
            "\n",
            "Example #1\n",
            "Src :  4 8 5 7 10 3 7 8 5\n",
            "Trg :  4 8 5 7 10 3 7 8 5\n",
            "Pred:  4 8 5 7 10 3 7 8 5\n",
            "\n",
            "Example #2\n",
            "Src :  8 8 3 6 5 2 8 6 2\n",
            "Trg :  8 8 3 6 5 2 8 6 2\n",
            "Pred:  8 8 3 6 5 2 8 6 2\n",
            "\n"
          ],
          "name": "stdout"
        },
        {
          "output_type": "display_data",
          "data": {
            "image/png": "[encoded data removed]",
            "text/plain": [
              "<Figure size 432x288 with 1 Axes>"
            ]
          },
          "metadata": {
            "tags": []
          }
        }
      ]
    },
    {
      "metadata": {
        "id": "Ff9PzjvwnGTM",
        "colab_type": "text"
      },
      "cell_type": "markdown",
      "source": [
        "You can see that the model managed to correctly 'translate' the two examples in the end.\n",
        "\n",
        "Moreover, the perplexity of the development data nicely went down towards 1."
      ]
    },
    {
      "metadata": {
        "id": "GVuBtvCIqyGX",
        "colab_type": "text"
      },
      "cell_type": "markdown",
      "source": [
        "# With Enron Data"
      ]
    },
    {
      "metadata": {
        "id": "nr2SJCPsnGTN",
        "colab_type": "code",
        "outputId": "3690e548-7052-4d65-9618-97ef0375eb88",
        "colab": {
          "base_uri": "https://localhost:8080/",
          "height": 683
        }
      },
      "cell_type": "code",
      "source": [
        "!pip install git+git://github.com/pytorch/text spacy \n",
        "!python -m spacy download en"
      ],
      "execution_count": 0,
      "outputs": [
        {
          "output_type": "stream",
          "text": [
            "Collecting git+git://github.com/pytorch/text\n",
            "  Cloning git://github.com/pytorch/text to /tmp/pip-req-build-u007e2s_\n",
            "Requirement already satisfied (use --upgrade to upgrade): torchtext==0.4.0 from git+git://github.com/pytorch/text in /usr/local/lib/python3.6/dist-packages\n",
            "Requirement already satisfied: spacy in /usr/local/lib/python3.6/dist-packages (2.0.18)\n",
            "Requirement already satisfied: tqdm in /usr/local/lib/python3.6/dist-packages (from torchtext==0.4.0) (4.28.1)\n",
            "Requirement already satisfied: requests in /usr/local/lib/python3.6/dist-packages (from torchtext==0.4.0) (2.21.0)\n",
            "Requirement already satisfied: torch in /usr/local/lib/python3.6/dist-packages (from torchtext==0.4.0) (1.0.1.post2)\n",
            "Requirement already satisfied: numpy in /usr/local/lib/python3.6/dist-packages (from torchtext==0.4.0) (1.16.3)\n",
            "Requirement already satisfied: six in /usr/local/lib/python3.6/dist-packages (from torchtext==0.4.0) (1.12.0)\n",
            "Requirement already satisfied: murmurhash<1.1.0,>=0.28.0 in /usr/local/lib/python3.6/dist-packages (from spacy) (1.0.2)\n",
            "Requirement already satisfied: thinc<6.13.0,>=6.12.1 in /usr/local/lib/python3.6/dist-packages (from spacy) (6.12.1)\n",
            "Requirement already satisfied: ujson>=1.35 in /usr/local/lib/python3.6/dist-packages (from spacy) (1.35)\n",
            "Requirement already satisfied: dill<0.3,>=0.2 in /usr/local/lib/python3.6/dist-packages (from spacy) (0.2.9)\n",
            "Requirement already satisfied: plac<1.0.0,>=0.9.6 in /usr/local/lib/python3.6/dist-packages (from spacy) (0.9.6)\n",
            "Requirement already satisfied: regex==2018.01.10 in /usr/local/lib/python3.6/dist-packages (from spacy) (2018.1.10)\n",
            "Requirement already satisfied: preshed<2.1.0,>=2.0.1 in /usr/local/lib/python3.6/dist-packages (from spacy) (2.0.1)\n",
            "Requirement already satisfied: cymem<2.1.0,>=2.0.2 in /usr/local/lib/python3.6/dist-packages (from spacy) (2.0.2)\n",
            "Requirement already satisfied: idna<2.9,>=2.5 in /usr/local/lib/python3.6/dist-packages (from requests->torchtext==0.4.0) (2.8)\n",
            "Requirement already satisfied: certifi>=2017.4.17 in /usr/local/lib/python3.6/dist-packages (from requests->torchtext==0.4.0) (2019.3.9)\n",
            "Requirement already satisfied: urllib3<1.25,>=1.21.1 in /usr/local/lib/python3.6/dist-packages (from requests->torchtext==0.4.0) (1.24.2)\n",
            "Requirement already satisfied: chardet<3.1.0,>=3.0.2 in /usr/local/lib/python3.6/dist-packages (from requests->torchtext==0.4.0) (3.0.4)\n",
            "Requirement already satisfied: msgpack-numpy<0.4.4 in /usr/local/lib/python3.6/dist-packages (from thinc<6.13.0,>=6.12.1->spacy) (0.4.3.2)\n",
            "Requirement already satisfied: wrapt<1.11.0,>=1.10.0 in /usr/local/lib/python3.6/dist-packages (from thinc<6.13.0,>=6.12.1->spacy) (1.10.11)\n",
            "Requirement already satisfied: cytoolz<0.10,>=0.9.0 in /usr/local/lib/python3.6/dist-packages (from thinc<6.13.0,>=6.12.1->spacy) (0.9.0.1)\n",
            "Requirement already satisfied: msgpack<0.6.0,>=0.5.6 in /usr/local/lib/python3.6/dist-packages (from thinc<6.13.0,>=6.12.1->spacy) (0.5.6)\n",
            "Requirement already satisfied: toolz>=0.8.0 in /usr/local/lib/python3.6/dist-packages (from cytoolz<0.10,>=0.9.0->thinc<6.13.0,>=6.12.1->spacy) (0.9.0)\n",
            "Building wheels for collected packages: torchtext\n",
            "  Building wheel for torchtext (setup.py) ... \u001b[?25ldone\n",
            "\u001b[?25h  Stored in directory: /tmp/pip-ephem-wheel-cache-higaes2a/wheels/39/42/ff/82f5ccbb0f30b25e14610376f5d0c67913fc05017dab59f8eb\n",
            "Successfully built torchtext\n",
            "Requirement already satisfied: en_core_web_sm==2.0.0 from https://github.com/explosion/spacy-models/releases/download/en_core_web_sm-2.0.0/en_core_web_sm-2.0.0.tar.gz#egg=en_core_web_sm==2.0.0 in /usr/local/lib/python3.6/dist-packages (2.0.0)\n",
            "\n",
            "\u001b[93m    Linking successful\u001b[0m\n",
            "    /usr/local/lib/python3.6/dist-packages/en_core_web_sm -->\n",
            "    /usr/local/lib/python3.6/dist-packages/spacy/data/en\n",
            "\n",
            "    You can now load the model via spacy.load('en')\n",
            "\n"
          ],
          "name": "stdout"
        }
      ]
    },
    {
      "metadata": {
        "id": "vCnHyGqGM1ou",
        "colab_type": "code",
        "colab": {}
      },
      "cell_type": "code",
      "source": [
        "from google.colab import drive\n",
        "import json\n",
        "drive.mount('gdrive')"
      ],
      "execution_count": 0,
      "outputs": []
    },
    {
      "metadata": {
        "id": "hu7bS9AWqxTm",
        "colab_type": "code",
        "colab": {}
      },
      "cell_type": "code",
      "source": [
        "from torchtext import data, vocab"
      ],
      "execution_count": 0,
      "outputs": []
    },
    {
      "metadata": {
        "id": "PDNsQ6QwrAnn",
        "colab_type": "code",
        "colab": {}
      },
      "cell_type": "code",
      "source": [
        "DATA_PATH = 'gdrive/My Drive/NLU project/interim_data/111044_1000/'\n",
        "LARGE_DATA_PATH = 'gdrive/My Drive/NLU project/interim_data/111044/'\n",
        "\n",
        "SAMPLE_DATA_PATH = f'{LARGE_DATA_PATH}'\n",
        "PROCESSED_DATA_PATH = f'{DATA_PATH}/processed_data/'"
      ],
      "execution_count": 0,
      "outputs": []
    },
    {
      "metadata": {
        "id": "rdVRmw5grJaa",
        "colab_type": "code",
        "colab": {}
      },
      "cell_type": "code",
      "source": [
        "import sys\n",
        "import csv\n",
        "maxInt = sys.maxsize\n",
        "\n",
        "while True:\n",
        "    # decrease the maxInt value by factor 10 \n",
        "    # as long as the OverflowError occurs.\n",
        "\n",
        "    try:\n",
        "        csv.field_size_limit(maxInt)\n",
        "        break\n",
        "    except OverflowError:\n",
        "        maxInt = int(maxInt/10)"
      ],
      "execution_count": 0,
      "outputs": []
    },
    {
      "metadata": {
        "id": "XorZV7f9nGTO",
        "colab_type": "text"
      },
      "cell_type": "markdown",
      "source": [
        "## Data Loading\n",
        "\n",
        "We will load the dataset using torchtext and spacy for tokenization.\n",
        "\n",
        "This cell might take a while to run the first time, as it will download and tokenize the IWSLT data.\n",
        "\n",
        "For speed we only include short sentences, and we include a word in the vocabulary only if it occurs at least 5 times. In this case we also lowercase the data.\n",
        "\n",
        "If you have **issues** with torch text in the cell below (e.g. an `ascii` error), try running `export LC_ALL=\"en_US.UTF-8\"` before you start `jupyter notebook`."
      ]
    },
    {
      "metadata": {
        "id": "HD54q_pDnGTP",
        "colab_type": "code",
        "colab": {}
      },
      "cell_type": "code",
      "source": [
        "# For data loading.\n",
        "from torchtext import data, datasets\n",
        "\n",
        "if True:\n",
        "    import spacy\n",
        "    tokenizer = data.get_tokenizer('spacy')\n",
        "\n",
        "    UNK_TOKEN = \"<unk>\"\n",
        "    PAD_TOKEN = \"<pad>\"    \n",
        "    SOS_TOKEN = \"<s>\"\n",
        "    EOS_TOKEN = \"</s>\"\n",
        "    LOWER = True\n",
        "    \n",
        "    # we include lengths to provide to the RNNs\n",
        "    SRC = data.Field(tokenize=tokenizer, \n",
        "                          lower=True, include_lengths=True, batch_first=True, \n",
        "                          unk_token=UNK_TOKEN, pad_token=PAD_TOKEN, init_token=None, eos_token=EOS_TOKEN)\n",
        "    TRG = data.Field(tokenize=tokenizer, \n",
        "                          lower=True, include_lengths=True, batch_first=True,\n",
        "                          unk_token=UNK_TOKEN, pad_token=PAD_TOKEN, init_token=None, eos_token=EOS_TOKEN)\n",
        "\n",
        "\n",
        "    MAX_LEN = 500  # NOTE: we filter out a lot of sentences for speed\n",
        "#     train_data, valid_data, test_data = datasets.IWSLT.splits(\n",
        "#         exts=('.de', '.en'), fields=(SRC, TRG), \n",
        "#         filter_pred=lambda x: len(vars(x)['src']) <= MAX_LEN and \n",
        "#             len(vars(x)['trg']) <= MAX_LEN)\n",
        "\n",
        "    trn_data_fields = [(\"src\", SRC), (\"trg\", TRG)]\n",
        "    train_data, valid_data, test_data = data.TabularDataset.splits(path=f'{SAMPLE_DATA_PATH}',\n",
        "                                     train='train.csv', validation='val.csv', test='test.csv',\n",
        "                                     format='csv', skip_header=True, fields=trn_data_fields, \n",
        "                                     filter_pred=lambda x: len(vars(x)['src']) <= MAX_LEN and len(vars(x)['trg']) <= MAX_LEN)\n",
        "\n",
        "\n",
        "\n",
        "    MIN_FREQ = 5  # NOTE: we limit the vocabulary to frequent words for speed\n",
        "    SRC.build_vocab(train_data.src, min_freq=MIN_FREQ)\n",
        "    TRG.build_vocab(train_data.trg, min_freq=MIN_FREQ)\n",
        "    \n",
        "    PAD_INDEX = TRG.vocab.stoi[PAD_TOKEN]\n"
      ],
      "execution_count": 0,
      "outputs": []
    },
    {
      "metadata": {
        "id": "QzaMFkmenaSg",
        "colab_type": "code",
        "colab": {}
      },
      "cell_type": "code",
      "source": [
        "train_data[0].src[:10]"
      ],
      "execution_count": 0,
      "outputs": []
    },
    {
      "metadata": {
        "id": "t8Z8L-QKnGTQ",
        "colab_type": "text"
      },
      "cell_type": "markdown",
      "source": [
        "### Let's look at the data\n",
        "\n",
        "It never hurts to look at your data and some statistics."
      ]
    },
    {
      "metadata": {
        "id": "oEd3_FAmnGTR",
        "colab_type": "code",
        "outputId": "10573278-900e-4130-d4ed-b000e0d2a8a2",
        "colab": {
          "base_uri": "https://localhost:8080/",
          "height": 1057
        }
      },
      "cell_type": "code",
      "source": [
        "def print_data_info(train_data, valid_data, test_data, src_field, trg_field):\n",
        "    \"\"\" This prints some useful stuff about our data sets. \"\"\"\n",
        "\n",
        "    print(\"Data set sizes (number of sentence pairs):\")\n",
        "    print('train', len(train_data))\n",
        "    print('valid', len(valid_data))\n",
        "    print('test', len(test_data), \"\\n\")\n",
        "\n",
        "    print(\"First training example:\")\n",
        "    print(\"src:\", \" \".join(vars(train_data[0])['src']))\n",
        "    print(\"trg:\", \" \".join(vars(train_data[0])['trg']), \"\\n\")\n",
        "\n",
        "    print(\"Most common words (src):\")\n",
        "    print(\"\\n\".join([\"%10s %10d\" % x for x in src_field.vocab.freqs.most_common(10)]), \"\\n\")\n",
        "    print(\"Most common words (trg):\")\n",
        "    print(\"\\n\".join([\"%10s %10d\" % x for x in trg_field.vocab.freqs.most_common(10)]), \"\\n\")\n",
        "\n",
        "    print(\"First 10 words (src):\")\n",
        "    print(\"\\n\".join(\n",
        "        '%02d %s' % (i, t) for i, t in enumerate(src_field.vocab.itos[:10])), \"\\n\")\n",
        "    print(\"First 10 words (trg):\")\n",
        "    print(\"\\n\".join(\n",
        "        '%02d %s' % (i, t) for i, t in enumerate(trg_field.vocab.itos[:10])), \"\\n\")\n",
        "\n",
        "    print(\"Number of Body words (types):\", len(src_field.vocab))\n",
        "    print(\"Number of Title words (types):\", len(trg_field.vocab), \"\\n\")\n",
        "    \n",
        "    \n",
        "print_data_info(train_data, valid_data, test_data, SRC, TRG)"
      ],
      "execution_count": 0,
      "outputs": [
        {
          "output_type": "stream",
          "text": [
            "Data set sizes (number of sentence pairs):\n",
            "train 67051\n",
            "valid 19073\n",
            "test 9569 \n",
            "\n",
            "First training example:\n",
            "src: hello vince ,   my name is bernard murphy - i received your e - mail address from les clewlow , who was my phd supervisor at the financia options research centre at warwick business school .   i 've just finished my phd on electricity price jump diffusions :   a theoretical and empirical study in incomplete markets - hence my interest in electricity price modelling and derivative pricing .   i was looking to get hold of a copy of your 1997 paper , which has recently come to my attention :   \" the challenge of pricing & risk - managing electricity derivatives \" , the us power market , risk publications , pp . 149 - 171 .   and les suggested that i contact you directly ( les is travelling at present and does n't have an electronic copy available ) to request an e - copy .   incidentally , i am lecturer in finance / financial mathematics at university of limerick ( ireland ) and have taken a year out to work for caminus uk , where i am working on introducing and developing a markets - based approach ( spark - spread ) to real asset valuations in the uk power industry .   thanks in advancve   bernard murphy\n",
            "trg: 1997 risk paper on pricing of electricity derivatives \n",
            "\n",
            "Most common words (src):\n",
            "               329279\n",
            "         .     280419\n",
            "       the     252996\n",
            "         ,     233700\n",
            "        to     181762\n",
            "         -     126269\n",
            "       and     118844\n",
            "         _     108234\n",
            "         :     104967\n",
            "        of     102249 \n",
            "\n",
            "Most common words (trg):\n",
            "         -      12563\n",
            "         :       8131\n",
            "       for       6168\n",
            "         ,       4906\n",
            "        of       3670\n",
            "         ;       3531\n",
            "         !       3423\n",
            "       and       3287\n",
            "         /       3185\n",
            "                 3058 \n",
            "\n",
            "First 10 words (src):\n",
            "00 <unk>\n",
            "01 <pad>\n",
            "02 </s>\n",
            "03  \n",
            "04 .\n",
            "05 the\n",
            "06 ,\n",
            "07 to\n",
            "08 -\n",
            "09 and \n",
            "\n",
            "First 10 words (trg):\n",
            "00 <unk>\n",
            "01 <pad>\n",
            "02 </s>\n",
            "03 -\n",
            "04 :\n",
            "05 for\n",
            "06 ,\n",
            "07 of\n",
            "08 ;\n",
            "09 ! \n",
            "\n",
            "Number of Body words (types): 32531\n",
            "Number of Title words (types): 5882 \n",
            "\n"
          ],
          "name": "stdout"
        }
      ]
    },
    {
      "metadata": {
        "id": "uCRptO_LnGTT",
        "colab_type": "text"
      },
      "cell_type": "markdown",
      "source": [
        "## Iterators\n",
        "Batching matters a ton for speed. We will use torch text's BucketIterator here to get batches containing sentences of (almost) the same length.\n",
        "\n",
        "#### Note on sorting batches for RNNs in PyTorch\n",
        "\n",
        "For effiency reasons, PyTorch RNNs require that batches have been sorted by length, with the longest sentence in the batch first. For training, we simply sort each batch. \n",
        "For validation, we would run into trouble if we want to compare our translations with some external file that was not sorted. Therefore we simply set the validation batch size to 1, so that we can keep it in the original order."
      ]
    },
    {
      "metadata": {
        "id": "DjltkIQPnGTU",
        "colab_type": "code",
        "colab": {}
      },
      "cell_type": "code",
      "source": [
        "train_iter = data.BucketIterator(train_data, batch_size=20, train=True, \n",
        "                                 sort_within_batch=True, \n",
        "                                 sort_key=lambda x: (len(x.src), len(x.trg)), repeat=False,\n",
        "                                 device=DEVICE)\n",
        "valid_iter = data.Iterator(valid_data, batch_size=1, train=False, sort=False, repeat=False, \n",
        "                           device=DEVICE)\n",
        "\n",
        "\n",
        "def rebatch(pad_idx, batch):\n",
        "    \"\"\"Wrap torchtext batch into our own Batch class for pre-processing\"\"\"\n",
        "    return Batch(batch.src, batch.trg, pad_idx)"
      ],
      "execution_count": 0,
      "outputs": []
    },
    {
      "metadata": {
        "id": "mmq-TPZYnGTY",
        "colab_type": "text"
      },
      "cell_type": "markdown",
      "source": [
        "## Training the System\n",
        "\n",
        "Now we train the model. \n",
        "\n",
        "On a Titan X GPU, this runs at ~18,000 tokens per second with a batch size of 64."
      ]
    },
    {
      "metadata": {
        "id": "Jl6HCudZnGTZ",
        "colab_type": "code",
        "colab": {}
      },
      "cell_type": "code",
      "source": [
        "def train(model, num_epochs=10, lr=0.0003, print_every=100):\n",
        "    \"\"\"Train a model on IWSLT\"\"\"\n",
        "    \n",
        "    if USE_CUDA:\n",
        "        model.cuda()\n",
        "\n",
        "    # optionally add label smoothing; see the Annotated Transformer\n",
        "    criterion = nn.NLLLoss(reduction=\"sum\", ignore_index=PAD_INDEX)\n",
        "    optim = torch.optim.Adam(model.parameters(), lr=lr)\n",
        "    \n",
        "    dev_perplexities = []\n",
        "\n",
        "    for epoch in range(num_epochs):\n",
        "      \n",
        "        print(\"Epoch\", epoch)\n",
        "        model.train()\n",
        "        train_perplexity = run_epoch((rebatch(PAD_INDEX, b) for b in train_iter), \n",
        "                                     model,\n",
        "                                     SimpleLossCompute(model.generator, criterion, optim),\n",
        "                                     print_every=print_every)\n",
        "        \n",
        "        model.eval()\n",
        "        with torch.no_grad():\n",
        "            print_examples((rebatch(PAD_INDEX, x) for x in valid_iter), \n",
        "                           model, n=3, src_vocab=SRC.vocab, trg_vocab=TRG.vocab)        \n",
        "\n",
        "            dev_perplexity = run_epoch((rebatch(PAD_INDEX, b) for b in valid_iter), \n",
        "                                       model, \n",
        "                                       SimpleLossCompute(model.generator, criterion, None))\n",
        "            print(\"Validation perplexity: %f\" % dev_perplexity)\n",
        "            dev_perplexities.append(dev_perplexity)\n",
        "        \n",
        "    return dev_perplexities\n",
        "        "
      ],
      "execution_count": 0,
      "outputs": []
    },
    {
      "metadata": {
        "scrolled": false,
        "id": "5bboe6POnGTe",
        "colab_type": "code",
        "outputId": "bf162f76-c3e8-4174-e3e6-75cfef5b14e0",
        "colab": {
          "base_uri": "https://localhost:8080/",
          "height": 8741
        }
      },
      "cell_type": "code",
      "source": [
        "model = make_model(len(SRC.vocab), len(TRG.vocab),\n",
        "                   emb_size=256, hidden_size=256,\n",
        "                   num_layers=1, dropout=0.2)\n",
        "dev_perplexities = train(model, print_every=100)"
      ],
      "execution_count": 0,
      "outputs": [
        {
          "output_type": "stream",
          "text": [
            "/usr/local/lib/python3.6/dist-packages/torch/nn/modules/rnn.py:46: UserWarning: dropout option adds dropout after all but last recurrent layer, so non-zero dropout expects num_layers greater than 1, but got dropout=0.2 and num_layers=1\n",
            "  \"num_layers={}\".format(dropout, num_layers))\n"
          ],
          "name": "stderr"
        },
        {
          "output_type": "stream",
          "text": [
            "Epoch 0\n",
            "Epoch Step: 100 Loss: 30.371017 Tokens per Sec: 2348.540385\n",
            "Epoch Step: 200 Loss: 25.343971 Tokens per Sec: 2540.076259\n",
            "Epoch Step: 300 Loss: 30.815506 Tokens per Sec: 2554.802566\n",
            "Epoch Step: 400 Loss: 23.486755 Tokens per Sec: 2589.229335\n",
            "Epoch Step: 500 Loss: 29.033417 Tokens per Sec: 2595.602924\n",
            "Epoch Step: 600 Loss: 34.188618 Tokens per Sec: 2544.648573\n",
            "Epoch Step: 700 Loss: 31.298182 Tokens per Sec: 2516.700882\n",
            "Epoch Step: 800 Loss: 23.591002 Tokens per Sec: 2560.921777\n",
            "Epoch Step: 900 Loss: 16.175261 Tokens per Sec: 2577.063542\n",
            "Epoch Step: 1000 Loss: 18.525234 Tokens per Sec: 2535.443200\n",
            "Epoch Step: 1100 Loss: 20.593403 Tokens per Sec: 2517.408730\n",
            "Epoch Step: 1200 Loss: 27.098169 Tokens per Sec: 2274.676555\n",
            "Epoch Step: 1300 Loss: 30.514240 Tokens per Sec: 2355.255602\n",
            "Epoch Step: 1400 Loss: 10.405295 Tokens per Sec: 2682.361041\n",
            "Epoch Step: 1500 Loss: 12.837216 Tokens per Sec: 2688.003173\n",
            "Epoch Step: 1600 Loss: 27.403318 Tokens per Sec: 2707.183237\n",
            "Epoch Step: 1700 Loss: 18.770975 Tokens per Sec: 2631.336963\n",
            "Epoch Step: 1800 Loss: 24.886946 Tokens per Sec: 2617.334906\n",
            "Epoch Step: 1900 Loss: 20.421644 Tokens per Sec: 2566.228493\n",
            "Epoch Step: 2000 Loss: 39.656338 Tokens per Sec: 2660.688363\n",
            "Epoch Step: 2100 Loss: 14.001697 Tokens per Sec: 2587.504772\n",
            "Epoch Step: 2200 Loss: 32.273479 Tokens per Sec: 2685.037788\n",
            "Epoch Step: 2300 Loss: 11.501164 Tokens per Sec: 2509.461453\n",
            "Epoch Step: 2400 Loss: 17.864988 Tokens per Sec: 2573.233631\n",
            "Epoch Step: 2500 Loss: 19.817598 Tokens per Sec: 2585.000669\n",
            "Epoch Step: 2600 Loss: 16.865934 Tokens per Sec: 2670.311580\n",
            "Epoch Step: 2700 Loss: 15.437947 Tokens per Sec: 2708.857860\n",
            "Epoch Step: 2800 Loss: 18.744247 Tokens per Sec: 2630.771876\n",
            "Epoch Step: 2900 Loss: 8.418776 Tokens per Sec: 2634.663028\n",
            "Epoch Step: 3000 Loss: 15.869141 Tokens per Sec: 2557.408395\n",
            "Epoch Step: 3100 Loss: 14.923215 Tokens per Sec: 2431.519946\n",
            "Epoch Step: 3200 Loss: 33.991131 Tokens per Sec: 2336.387648\n",
            "Epoch Step: 3300 Loss: 22.421120 Tokens per Sec: 2510.062754\n",
            "\n",
            "Example #1\n",
            "Src :  good afternoon mr. ball :   the enron corp. research group would like to conduct an informal interview with you at your convenience .   please give me some dates and times within the next 2 weeks that you might be available and i will arrange the schedule .   the people that will be interviewing you are :   vince kaminski    managing director stinson gibner    vice president grant masson    vice president vasant shanbhogue   vice president krishna krishnarao   director zimin lu    director tanya tamarchenko   manager alex huang    manager   each individual interview will last approximately 15 - 20 minutes , so we probably should allow at least   3 hours .   if you would prefer to call me with some dates and times - i can check the calendars while we are talking .   look forward to hearing from you .   thank you .   shirley crenshaw administrative coordinator research group 713/853 - 5290\n",
            "Trg :  with enron corp. research group\n",
            "Pred:  \n",
            "\n",
            "Example #2\n",
            "Src :  1 . if you know that you are taking vacation for the holidays , please submit a timesheet <unk> send your timesheet if you have taken time off / rotation information has changed . sorry , we are no longer tracking overtime since you are salary based . to all a / a pool members : it is important that you let us know of any time you have taken off . to those members who are sending time on to your assistant , please make sure they forward that information on to the a / a program . with the roll out of sap , you have the ability to go on - line @ http://ehronline.enron.com/ and input your time . i will continue to email for timesheets regardless if you go on - line . this is to let you know it is time to input your time or fills out your timesheet . 2 . if you have moved recently , please provide the following and indicate the new changes when sending your timesheet . new rotation : business unit and group : effective date : location : extension : supervisor : supervisor 's location : supervisor 's extension : supervisor 's assistant : assistant 's location : assistant 's extension : co # rc # 3 . quick reminder that you can pick up your check or past period check @ eb 1198 ( if they are not already coming to your location / mail stop ) . thank you for your cooperation rt\n",
            "Trg :  / a - timesheets\n",
            "Pred:  's new year\n",
            "\n",
            "Example #3\n",
            "Src :  peter and dan--   txu is in the process of amending the current guaranty to have the cap amount increased due to an increase in trading .   please review the attached document and send any commentary back to my attention .   the beneficiaries involved are both enron north america corp. and enron canada corp.   i would appreciate a prompt response in order to have the guaranty executed as soon as possible by the counterparty due to the current exposure that we currently have out to them .     thank you ,   veronica espinoza\n",
            "Trg :  energy trading -- guaranty\n",
            "Pred:  \n",
            "\n",
            "Validation perplexity: 37.916986\n",
            "Epoch 1\n",
            "Epoch Step: 100 Loss: 21.802000 Tokens per Sec: 2569.185819\n",
            "Epoch Step: 200 Loss: 25.145042 Tokens per Sec: 2561.418662\n",
            "Epoch Step: 300 Loss: 21.556105 Tokens per Sec: 2647.405794\n",
            "Epoch Step: 400 Loss: 15.105265 Tokens per Sec: 2577.094619\n",
            "Epoch Step: 500 Loss: 12.745419 Tokens per Sec: 2587.408608\n",
            "Epoch Step: 600 Loss: 25.142132 Tokens per Sec: 2409.123535\n",
            "Epoch Step: 700 Loss: 9.773890 Tokens per Sec: 2303.100603\n",
            "Epoch Step: 800 Loss: 26.850651 Tokens per Sec: 2612.530686\n",
            "Epoch Step: 900 Loss: 28.974415 Tokens per Sec: 2581.062886\n",
            "Epoch Step: 1000 Loss: 13.713099 Tokens per Sec: 2611.091384\n",
            "Epoch Step: 1100 Loss: 7.650898 Tokens per Sec: 2584.366378\n",
            "Epoch Step: 1200 Loss: 17.350559 Tokens per Sec: 2599.072656\n",
            "Epoch Step: 1300 Loss: 12.379710 Tokens per Sec: 2604.472748\n",
            "Epoch Step: 1400 Loss: 20.890448 Tokens per Sec: 2656.174373\n",
            "Epoch Step: 1500 Loss: 16.692205 Tokens per Sec: 2585.856547\n",
            "Epoch Step: 1600 Loss: 17.691771 Tokens per Sec: 2714.822486\n",
            "Epoch Step: 1700 Loss: 27.829437 Tokens per Sec: 2699.374114\n",
            "Epoch Step: 1800 Loss: 18.652304 Tokens per Sec: 2605.586835\n",
            "Epoch Step: 1900 Loss: 12.864600 Tokens per Sec: 2612.780977\n",
            "Epoch Step: 2000 Loss: 20.956282 Tokens per Sec: 2603.608199\n",
            "Epoch Step: 2100 Loss: 10.426603 Tokens per Sec: 2666.321940\n",
            "Epoch Step: 2200 Loss: 14.276400 Tokens per Sec: 2389.684602\n",
            "Epoch Step: 2300 Loss: 13.766044 Tokens per Sec: 2366.679471\n",
            "Epoch Step: 2400 Loss: 10.630414 Tokens per Sec: 2434.139697\n",
            "Epoch Step: 2500 Loss: 9.341156 Tokens per Sec: 2378.172034\n",
            "Epoch Step: 2600 Loss: 22.014814 Tokens per Sec: 2327.819666\n",
            "Epoch Step: 2700 Loss: 8.413161 Tokens per Sec: 2543.078296\n",
            "Epoch Step: 2800 Loss: 21.068058 Tokens per Sec: 2727.892434\n",
            "Epoch Step: 2900 Loss: 13.272089 Tokens per Sec: 2735.644457\n",
            "Epoch Step: 3000 Loss: 23.594076 Tokens per Sec: 2593.746964\n",
            "Epoch Step: 3100 Loss: 25.400152 Tokens per Sec: 2632.270049\n",
            "Epoch Step: 3200 Loss: 19.170557 Tokens per Sec: 2652.151547\n",
            "Epoch Step: 3300 Loss: 19.986906 Tokens per Sec: 2606.156404\n",
            "\n",
            "Example #1\n",
            "Src :  good afternoon mr. ball :   the enron corp. research group would like to conduct an informal interview with you at your convenience .   please give me some dates and times within the next 2 weeks that you might be available and i will arrange the schedule .   the people that will be interviewing you are :   vince kaminski    managing director stinson gibner    vice president grant masson    vice president vasant shanbhogue   vice president krishna krishnarao   director zimin lu    director tanya tamarchenko   manager alex huang    manager   each individual interview will last approximately 15 - 20 minutes , so we probably should allow at least   3 hours .   if you would prefer to call me with some dates and times - i can check the calendars while we are talking .   look forward to hearing from you .   thank you .   shirley crenshaw administrative coordinator research group 713/853 - 5290\n",
            "Trg :  with enron corp. research group\n",
            "Pred:  <unk>\n",
            "\n",
            "Example #2\n",
            "Src :  1 . if you know that you are taking vacation for the holidays , please submit a timesheet <unk> send your timesheet if you have taken time off / rotation information has changed . sorry , we are no longer tracking overtime since you are salary based . to all a / a pool members : it is important that you let us know of any time you have taken off . to those members who are sending time on to your assistant , please make sure they forward that information on to the a / a program . with the roll out of sap , you have the ability to go on - line @ http://ehronline.enron.com/ and input your time . i will continue to email for timesheets regardless if you go on - line . this is to let you know it is time to input your time or fills out your timesheet . 2 . if you have moved recently , please provide the following and indicate the new changes when sending your timesheet . new rotation : business unit and group : effective date : location : extension : supervisor : supervisor 's location : supervisor 's extension : supervisor 's assistant : assistant 's location : assistant 's extension : co # rc # 3 . quick reminder that you can pick up your check or past period check @ eb 1198 ( if they are not already coming to your location / mail stop ) . thank you for your cooperation rt\n",
            "Trg :  / a - timesheets\n",
            "Pred:  's new <unk>\n",
            "\n",
            "Example #3\n",
            "Src :  peter and dan--   txu is in the process of amending the current guaranty to have the cap amount increased due to an increase in trading .   please review the attached document and send any commentary back to my attention .   the beneficiaries involved are both enron north america corp. and enron canada corp.   i would appreciate a prompt response in order to have the guaranty executed as soon as possible by the counterparty due to the current exposure that we currently have out to them .     thank you ,   veronica espinoza\n",
            "Trg :  energy trading -- guaranty\n",
            "Pred:  \n",
            "\n",
            "Validation perplexity: 25.214971\n",
            "Epoch 2\n",
            "Epoch Step: 100 Loss: 14.040792 Tokens per Sec: 2366.491960\n",
            "Epoch Step: 200 Loss: 13.068735 Tokens per Sec: 2604.017930\n",
            "Epoch Step: 300 Loss: 9.566684 Tokens per Sec: 2632.027288\n",
            "Epoch Step: 400 Loss: 20.548185 Tokens per Sec: 2717.835497\n",
            "Epoch Step: 500 Loss: 14.510948 Tokens per Sec: 2637.094437\n",
            "Epoch Step: 600 Loss: 18.401615 Tokens per Sec: 2647.080232\n",
            "Epoch Step: 700 Loss: 10.744369 Tokens per Sec: 2649.372169\n",
            "Epoch Step: 800 Loss: 14.341010 Tokens per Sec: 2596.522244\n",
            "Epoch Step: 900 Loss: 3.505227 Tokens per Sec: 2712.962598\n",
            "Epoch Step: 1000 Loss: 13.685419 Tokens per Sec: 2585.705900\n",
            "Epoch Step: 1100 Loss: 15.208216 Tokens per Sec: 2610.700718\n",
            "Epoch Step: 1200 Loss: 16.934666 Tokens per Sec: 2626.544449\n",
            "Epoch Step: 1300 Loss: 12.102744 Tokens per Sec: 2672.633725\n",
            "Epoch Step: 1400 Loss: 10.976138 Tokens per Sec: 2618.032811\n",
            "Epoch Step: 1500 Loss: 20.869150 Tokens per Sec: 2515.118500\n",
            "Epoch Step: 1600 Loss: 12.822383 Tokens per Sec: 2578.403483\n",
            "Epoch Step: 1700 Loss: 17.840834 Tokens per Sec: 2637.932074\n",
            "Epoch Step: 1800 Loss: 14.870666 Tokens per Sec: 2612.947489\n",
            "Epoch Step: 1900 Loss: 8.224852 Tokens per Sec: 2295.397179\n",
            "Epoch Step: 2000 Loss: 11.894437 Tokens per Sec: 2357.687232\n",
            "Epoch Step: 2100 Loss: 12.591082 Tokens per Sec: 2614.950454\n",
            "Epoch Step: 2200 Loss: 12.617003 Tokens per Sec: 2602.523994\n",
            "Epoch Step: 2300 Loss: 20.057028 Tokens per Sec: 2626.106372\n",
            "Epoch Step: 2400 Loss: 18.883101 Tokens per Sec: 2732.128483\n",
            "Epoch Step: 2500 Loss: 6.521486 Tokens per Sec: 2617.020634\n",
            "Epoch Step: 2600 Loss: 18.517200 Tokens per Sec: 2680.064886\n",
            "Epoch Step: 2700 Loss: 8.547156 Tokens per Sec: 2586.693028\n",
            "Epoch Step: 2800 Loss: 20.365271 Tokens per Sec: 2600.752159\n",
            "Epoch Step: 2900 Loss: 11.664557 Tokens per Sec: 2640.250650\n",
            "Epoch Step: 3000 Loss: 25.116388 Tokens per Sec: 2650.559278\n",
            "Epoch Step: 3100 Loss: 18.569675 Tokens per Sec: 2666.692746\n",
            "Epoch Step: 3200 Loss: 20.922766 Tokens per Sec: 2456.980514\n",
            "Epoch Step: 3300 Loss: 18.456104 Tokens per Sec: 2286.687778\n",
            "\n",
            "Example #1\n",
            "Src :  good afternoon mr. ball :   the enron corp. research group would like to conduct an informal interview with you at your convenience .   please give me some dates and times within the next 2 weeks that you might be available and i will arrange the schedule .   the people that will be interviewing you are :   vince kaminski    managing director stinson gibner    vice president grant masson    vice president vasant shanbhogue   vice president krishna krishnarao   director zimin lu    director tanya tamarchenko   manager alex huang    manager   each individual interview will last approximately 15 - 20 minutes , so we probably should allow at least   3 hours .   if you would prefer to call me with some dates and times - i can check the calendars while we are talking .   look forward to hearing from you .   thank you .   shirley crenshaw administrative coordinator research group 713/853 - 5290\n",
            "Trg :  with enron corp. research group\n",
            "Pred:  <unk>\n",
            "\n",
            "Example #2\n",
            "Src :  1 . if you know that you are taking vacation for the holidays , please submit a timesheet <unk> send your timesheet if you have taken time off / rotation information has changed . sorry , we are no longer tracking overtime since you are salary based . to all a / a pool members : it is important that you let us know of any time you have taken off . to those members who are sending time on to your assistant , please make sure they forward that information on to the a / a program . with the roll out of sap , you have the ability to go on - line @ http://ehronline.enron.com/ and input your time . i will continue to email for timesheets regardless if you go on - line . this is to let you know it is time to input your time or fills out your timesheet . 2 . if you have moved recently , please provide the following and indicate the new changes when sending your timesheet . new rotation : business unit and group : effective date : location : extension : supervisor : supervisor 's location : supervisor 's extension : supervisor 's assistant : assistant 's location : assistant 's extension : co # rc # 3 . quick reminder that you can pick up your check or past period check @ eb 1198 ( if they are not already coming to your location / mail stop ) . thank you for your cooperation rt\n",
            "Trg :  / a - timesheets\n",
            "Pred:  's <unk>\n",
            "\n",
            "Example #3\n",
            "Src :  peter and dan--   txu is in the process of amending the current guaranty to have the cap amount increased due to an increase in trading .   please review the attached document and send any commentary back to my attention .   the beneficiaries involved are both enron north america corp. and enron canada corp.   i would appreciate a prompt response in order to have the guaranty executed as soon as possible by the counterparty due to the current exposure that we currently have out to them .     thank you ,   veronica espinoza\n",
            "Trg :  energy trading -- guaranty\n",
            "Pred:  \n",
            "\n",
            "Validation perplexity: 20.479378\n",
            "Epoch 3\n",
            "Epoch Step: 100 Loss: 11.158370 Tokens per Sec: 2555.353777\n",
            "Epoch Step: 200 Loss: 14.714511 Tokens per Sec: 2669.490196\n",
            "Epoch Step: 300 Loss: 11.295121 Tokens per Sec: 2742.718716\n",
            "Epoch Step: 400 Loss: 11.201707 Tokens per Sec: 2564.346483\n",
            "Epoch Step: 500 Loss: 10.187019 Tokens per Sec: 2592.975954\n",
            "Epoch Step: 600 Loss: 12.566231 Tokens per Sec: 2341.128145\n",
            "Epoch Step: 700 Loss: 18.596924 Tokens per Sec: 2650.664336\n",
            "Epoch Step: 800 Loss: 23.477062 Tokens per Sec: 2688.922569\n",
            "Epoch Step: 900 Loss: 8.787148 Tokens per Sec: 2631.150674\n",
            "Epoch Step: 1000 Loss: 16.236868 Tokens per Sec: 2666.944809\n",
            "Epoch Step: 1100 Loss: 8.923549 Tokens per Sec: 2658.264294\n",
            "Epoch Step: 1200 Loss: 8.160586 Tokens per Sec: 2586.181726\n",
            "Epoch Step: 1300 Loss: 16.947676 Tokens per Sec: 2328.667381\n",
            "Epoch Step: 1400 Loss: 22.963644 Tokens per Sec: 2426.592406\n",
            "Epoch Step: 1500 Loss: 14.950235 Tokens per Sec: 2577.155938\n",
            "Epoch Step: 1600 Loss: 13.107120 Tokens per Sec: 2664.419003\n",
            "Epoch Step: 1700 Loss: 15.116611 Tokens per Sec: 2645.318451\n",
            "Epoch Step: 1800 Loss: 11.014297 Tokens per Sec: 2593.167387\n",
            "Epoch Step: 1900 Loss: 12.496707 Tokens per Sec: 2627.314961\n",
            "Epoch Step: 2000 Loss: 15.135620 Tokens per Sec: 2646.027680\n",
            "Epoch Step: 2100 Loss: 15.163039 Tokens per Sec: 2634.401768\n",
            "Epoch Step: 2200 Loss: 16.951498 Tokens per Sec: 2652.270579\n",
            "Epoch Step: 2300 Loss: 7.065808 Tokens per Sec: 2626.457200\n",
            "Epoch Step: 2400 Loss: 14.469464 Tokens per Sec: 2678.461644\n",
            "Epoch Step: 2500 Loss: 8.707847 Tokens per Sec: 2581.928346\n",
            "Epoch Step: 2600 Loss: 11.562358 Tokens per Sec: 2636.926451\n",
            "Epoch Step: 2700 Loss: 14.961860 Tokens per Sec: 2695.650528\n",
            "Epoch Step: 2800 Loss: 17.676512 Tokens per Sec: 2617.266788\n",
            "Epoch Step: 2900 Loss: 9.841986 Tokens per Sec: 2609.938486\n",
            "Epoch Step: 3000 Loss: 16.410482 Tokens per Sec: 2650.313866\n",
            "Epoch Step: 3100 Loss: 17.423109 Tokens per Sec: 2558.719721\n",
            "Epoch Step: 3200 Loss: 7.386956 Tokens per Sec: 2353.537459\n",
            "Epoch Step: 3300 Loss: 12.159083 Tokens per Sec: 2321.332944\n",
            "\n",
            "Example #1\n",
            "Src :  good afternoon mr. ball :   the enron corp. research group would like to conduct an informal interview with you at your convenience .   please give me some dates and times within the next 2 weeks that you might be available and i will arrange the schedule .   the people that will be interviewing you are :   vince kaminski    managing director stinson gibner    vice president grant masson    vice president vasant shanbhogue   vice president krishna krishnarao   director zimin lu    director tanya tamarchenko   manager alex huang    manager   each individual interview will last approximately 15 - 20 minutes , so we probably should allow at least   3 hours .   if you would prefer to call me with some dates and times - i can check the calendars while we are talking .   look forward to hearing from you .   thank you .   shirley crenshaw administrative coordinator research group 713/853 - 5290\n",
            "Trg :  with enron corp. research group\n",
            "Pred:  <unk> interview with enron\n",
            "\n",
            "Example #2\n",
            "Src :  1 . if you know that you are taking vacation for the holidays , please submit a timesheet <unk> send your timesheet if you have taken time off / rotation information has changed . sorry , we are no longer tracking overtime since you are salary based . to all a / a pool members : it is important that you let us know of any time you have taken off . to those members who are sending time on to your assistant , please make sure they forward that information on to the a / a program . with the roll out of sap , you have the ability to go on - line @ http://ehronline.enron.com/ and input your time . i will continue to email for timesheets regardless if you go on - line . this is to let you know it is time to input your time or fills out your timesheet . 2 . if you have moved recently , please provide the following and indicate the new changes when sending your timesheet . new rotation : business unit and group : effective date : location : extension : supervisor : supervisor 's location : supervisor 's extension : supervisor 's assistant : assistant 's location : assistant 's extension : co # rc # 3 . quick reminder that you can pick up your check or past period check @ eb 1198 ( if they are not already coming to your location / mail stop ) . thank you for your cooperation rt\n",
            "Trg :  / a - timesheets\n",
            "Pred:  <unk>\n",
            "\n",
            "Example #3\n",
            "Src :  peter and dan--   txu is in the process of amending the current guaranty to have the cap amount increased due to an increase in trading .   please review the attached document and send any commentary back to my attention .   the beneficiaries involved are both enron north america corp. and enron canada corp.   i would appreciate a prompt response in order to have the guaranty executed as soon as possible by the counterparty due to the current exposure that we currently have out to them .     thank you ,   veronica espinoza\n",
            "Trg :  energy trading -- guaranty\n",
            "Pred:  \n",
            "\n",
            "Validation perplexity: 18.932391\n",
            "Epoch 4\n",
            "Epoch Step: 100 Loss: 9.174450 Tokens per Sec: 2600.618917\n",
            "Epoch Step: 200 Loss: 15.330579 Tokens per Sec: 2639.299994\n",
            "Epoch Step: 300 Loss: 14.288370 Tokens per Sec: 2595.432918\n",
            "Epoch Step: 400 Loss: 7.041927 Tokens per Sec: 2591.949726\n",
            "Epoch Step: 500 Loss: 11.102430 Tokens per Sec: 2625.951646\n",
            "Epoch Step: 600 Loss: 15.442963 Tokens per Sec: 2454.759596\n",
            "Epoch Step: 700 Loss: 11.086455 Tokens per Sec: 2410.372658\n",
            "Epoch Step: 800 Loss: 15.750949 Tokens per Sec: 2331.547557\n",
            "Epoch Step: 900 Loss: 9.581506 Tokens per Sec: 2596.202900\n",
            "Epoch Step: 1000 Loss: 7.944654 Tokens per Sec: 2626.989753\n",
            "Epoch Step: 1100 Loss: 7.507371 Tokens per Sec: 2594.132020\n",
            "Epoch Step: 1200 Loss: 14.673433 Tokens per Sec: 2603.004707\n",
            "Epoch Step: 1300 Loss: 11.047481 Tokens per Sec: 2654.867028\n",
            "Epoch Step: 1400 Loss: 15.079712 Tokens per Sec: 2547.406085\n",
            "Epoch Step: 1500 Loss: 14.128516 Tokens per Sec: 2318.994424\n",
            "Epoch Step: 1600 Loss: 11.549054 Tokens per Sec: 2739.984565\n",
            "Epoch Step: 1700 Loss: 8.005287 Tokens per Sec: 2634.365809\n",
            "Epoch Step: 1800 Loss: 14.270741 Tokens per Sec: 2651.208843\n",
            "Epoch Step: 1900 Loss: 14.607407 Tokens per Sec: 2645.274226\n",
            "Epoch Step: 2000 Loss: 18.917101 Tokens per Sec: 2562.307300\n",
            "Epoch Step: 2100 Loss: 17.856813 Tokens per Sec: 2609.367139\n",
            "Epoch Step: 2200 Loss: 15.807343 Tokens per Sec: 2636.319655\n",
            "Epoch Step: 2300 Loss: 17.197460 Tokens per Sec: 2573.466635\n",
            "Epoch Step: 2400 Loss: 19.841940 Tokens per Sec: 2576.891187\n",
            "Epoch Step: 2500 Loss: 23.265371 Tokens per Sec: 2498.924359\n",
            "Epoch Step: 2600 Loss: 14.901250 Tokens per Sec: 2327.750989\n",
            "Epoch Step: 2700 Loss: 21.884893 Tokens per Sec: 2491.468038\n",
            "Epoch Step: 2800 Loss: 9.464778 Tokens per Sec: 2637.551573\n",
            "Epoch Step: 2900 Loss: 10.282300 Tokens per Sec: 2708.092631\n",
            "Epoch Step: 3000 Loss: 22.579575 Tokens per Sec: 2666.335845\n",
            "Epoch Step: 3100 Loss: 5.565300 Tokens per Sec: 2653.859417\n",
            "Epoch Step: 3200 Loss: 5.591527 Tokens per Sec: 2564.419142\n",
            "Epoch Step: 3300 Loss: 8.681844 Tokens per Sec: 2592.674994\n",
            "\n",
            "Example #1\n",
            "Src :  good afternoon mr. ball :   the enron corp. research group would like to conduct an informal interview with you at your convenience .   please give me some dates and times within the next 2 weeks that you might be available and i will arrange the schedule .   the people that will be interviewing you are :   vince kaminski    managing director stinson gibner    vice president grant masson    vice president vasant shanbhogue   vice president krishna krishnarao   director zimin lu    director tanya tamarchenko   manager alex huang    manager   each individual interview will last approximately 15 - 20 minutes , so we probably should allow at least   3 hours .   if you would prefer to call me with some dates and times - i can check the calendars while we are talking .   look forward to hearing from you .   thank you .   shirley crenshaw administrative coordinator research group 713/853 - 5290\n",
            "Trg :  with enron corp. research group\n",
            "Pred:  enron research group\n",
            "\n",
            "Example #2\n",
            "Src :  1 . if you know that you are taking vacation for the holidays , please submit a timesheet <unk> send your timesheet if you have taken time off / rotation information has changed . sorry , we are no longer tracking overtime since you are salary based . to all a / a pool members : it is important that you let us know of any time you have taken off . to those members who are sending time on to your assistant , please make sure they forward that information on to the a / a program . with the roll out of sap , you have the ability to go on - line @ http://ehronline.enron.com/ and input your time . i will continue to email for timesheets regardless if you go on - line . this is to let you know it is time to input your time or fills out your timesheet . 2 . if you have moved recently , please provide the following and indicate the new changes when sending your timesheet . new rotation : business unit and group : effective date : location : extension : supervisor : supervisor 's location : supervisor 's extension : supervisor 's assistant : assistant 's location : assistant 's extension : co # rc # 3 . quick reminder that you can pick up your check or past period check @ eb 1198 ( if they are not already coming to your location / mail stop ) . thank you for your cooperation rt\n",
            "Trg :  / a - timesheets\n",
            "Pred:  's <unk>\n",
            "\n",
            "Example #3\n",
            "Src :  peter and dan--   txu is in the process of amending the current guaranty to have the cap amount increased due to an increase in trading .   please review the attached document and send any commentary back to my attention .   the beneficiaries involved are both enron north america corp. and enron canada corp.   i would appreciate a prompt response in order to have the guaranty executed as soon as possible by the counterparty due to the current exposure that we currently have out to them .     thank you ,   veronica espinoza\n",
            "Trg :  energy trading -- guaranty\n",
            "Pred:  \n",
            "\n",
            "Validation perplexity: 18.374452\n",
            "Epoch 5\n",
            "Epoch Step: 100 Loss: 9.931939 Tokens per Sec: 2323.375329\n",
            "Epoch Step: 200 Loss: 10.776196 Tokens per Sec: 2457.002212\n",
            "Epoch Step: 300 Loss: 13.084557 Tokens per Sec: 2682.704106\n",
            "Epoch Step: 400 Loss: 15.393447 Tokens per Sec: 2683.709170\n",
            "Epoch Step: 500 Loss: 5.745166 Tokens per Sec: 2659.857761\n",
            "Epoch Step: 600 Loss: 8.963851 Tokens per Sec: 2647.081052\n",
            "Epoch Step: 700 Loss: 7.776624 Tokens per Sec: 2587.486777\n",
            "Epoch Step: 800 Loss: 8.817672 Tokens per Sec: 2556.765885\n",
            "Epoch Step: 900 Loss: 7.573726 Tokens per Sec: 2583.766515\n",
            "Epoch Step: 1000 Loss: 23.027460 Tokens per Sec: 2529.065801\n",
            "Epoch Step: 1100 Loss: 9.945196 Tokens per Sec: 2621.063579\n",
            "Epoch Step: 1200 Loss: 13.627593 Tokens per Sec: 2580.984607\n",
            "Epoch Step: 1300 Loss: 7.619129 Tokens per Sec: 2708.074813\n",
            "Epoch Step: 1400 Loss: 8.830441 Tokens per Sec: 2674.560092\n",
            "Epoch Step: 1500 Loss: 12.587518 Tokens per Sec: 2641.527898\n",
            "Epoch Step: 1600 Loss: 14.142290 Tokens per Sec: 2579.485992\n",
            "Epoch Step: 1700 Loss: 7.091926 Tokens per Sec: 2602.873820\n",
            "Epoch Step: 1800 Loss: 8.708171 Tokens per Sec: 2617.151350\n",
            "Epoch Step: 1900 Loss: 8.243743 Tokens per Sec: 2554.308704\n",
            "Epoch Step: 2000 Loss: 7.002136 Tokens per Sec: 2409.935326\n",
            "Epoch Step: 2100 Loss: 11.640574 Tokens per Sec: 2390.938117\n",
            "Epoch Step: 2200 Loss: 9.019217 Tokens per Sec: 2523.325735\n",
            "Epoch Step: 2300 Loss: 12.949611 Tokens per Sec: 2457.821938\n",
            "Epoch Step: 2400 Loss: 11.101991 Tokens per Sec: 2324.328168\n",
            "Epoch Step: 2500 Loss: 7.757866 Tokens per Sec: 2633.586456\n",
            "Epoch Step: 2600 Loss: 13.817746 Tokens per Sec: 2586.721104\n",
            "Epoch Step: 2700 Loss: 6.818078 Tokens per Sec: 2558.934509\n",
            "Epoch Step: 2800 Loss: 11.235333 Tokens per Sec: 2572.638664\n",
            "Epoch Step: 2900 Loss: 12.980094 Tokens per Sec: 2546.634555\n",
            "Epoch Step: 3000 Loss: 6.305192 Tokens per Sec: 2624.105812\n",
            "Epoch Step: 3100 Loss: 11.416297 Tokens per Sec: 2687.795480\n",
            "Epoch Step: 3200 Loss: 12.026293 Tokens per Sec: 2619.110201\n",
            "Epoch Step: 3300 Loss: 12.587362 Tokens per Sec: 2595.787677\n",
            "\n",
            "Example #1\n",
            "Src :  good afternoon mr. ball :   the enron corp. research group would like to conduct an informal interview with you at your convenience .   please give me some dates and times within the next 2 weeks that you might be available and i will arrange the schedule .   the people that will be interviewing you are :   vince kaminski    managing director stinson gibner    vice president grant masson    vice president vasant shanbhogue   vice president krishna krishnarao   director zimin lu    director tanya tamarchenko   manager alex huang    manager   each individual interview will last approximately 15 - 20 minutes , so we probably should allow at least   3 hours .   if you would prefer to call me with some dates and times - i can check the calendars while we are talking .   look forward to hearing from you .   thank you .   shirley crenshaw administrative coordinator research group 713/853 - 5290\n",
            "Trg :  with enron corp. research group\n",
            "Pred:  <unk>\n",
            "\n",
            "Example #2\n",
            "Src :  1 . if you know that you are taking vacation for the holidays , please submit a timesheet <unk> send your timesheet if you have taken time off / rotation information has changed . sorry , we are no longer tracking overtime since you are salary based . to all a / a pool members : it is important that you let us know of any time you have taken off . to those members who are sending time on to your assistant , please make sure they forward that information on to the a / a program . with the roll out of sap , you have the ability to go on - line @ http://ehronline.enron.com/ and input your time . i will continue to email for timesheets regardless if you go on - line . this is to let you know it is time to input your time or fills out your timesheet . 2 . if you have moved recently , please provide the following and indicate the new changes when sending your timesheet . new rotation : business unit and group : effective date : location : extension : supervisor : supervisor 's location : supervisor 's extension : supervisor 's assistant : assistant 's location : assistant 's extension : co # rc # 3 . quick reminder that you can pick up your check or past period check @ eb 1198 ( if they are not already coming to your location / mail stop ) . thank you for your cooperation rt\n",
            "Trg :  / a - timesheets\n",
            "Pred:  's new year\n",
            "\n",
            "Example #3\n",
            "Src :  peter and dan--   txu is in the process of amending the current guaranty to have the cap amount increased due to an increase in trading .   please review the attached document and send any commentary back to my attention .   the beneficiaries involved are both enron north america corp. and enron canada corp.   i would appreciate a prompt response in order to have the guaranty executed as soon as possible by the counterparty due to the current exposure that we currently have out to them .     thank you ,   veronica espinoza\n",
            "Trg :  energy trading -- guaranty\n",
            "Pred:  \n",
            "\n",
            "Validation perplexity: 18.809648\n",
            "Epoch 6\n",
            "Epoch Step: 100 Loss: 8.714049 Tokens per Sec: 2465.000700\n",
            "Epoch Step: 200 Loss: 8.154227 Tokens per Sec: 2629.056976\n",
            "Epoch Step: 300 Loss: 7.110725 Tokens per Sec: 2723.012252\n",
            "Epoch Step: 400 Loss: 14.816829 Tokens per Sec: 2617.865087\n",
            "Epoch Step: 500 Loss: 12.505428 Tokens per Sec: 2562.447005\n",
            "Epoch Step: 600 Loss: 2.426071 Tokens per Sec: 2709.393722\n",
            "Epoch Step: 700 Loss: 11.519548 Tokens per Sec: 2588.980638\n",
            "Epoch Step: 800 Loss: 14.643758 Tokens per Sec: 2615.915591\n",
            "Epoch Step: 900 Loss: 9.650317 Tokens per Sec: 2664.784287\n",
            "Epoch Step: 1000 Loss: 6.917990 Tokens per Sec: 2604.401743\n",
            "Epoch Step: 1100 Loss: 12.008265 Tokens per Sec: 2653.629493\n",
            "Epoch Step: 1200 Loss: 13.765124 Tokens per Sec: 2563.434040\n",
            "Epoch Step: 1300 Loss: 8.351657 Tokens per Sec: 2350.220051\n",
            "Epoch Step: 1400 Loss: 14.387542 Tokens per Sec: 2316.355248\n",
            "Epoch Step: 1500 Loss: 5.738069 Tokens per Sec: 2652.014623\n",
            "Epoch Step: 1600 Loss: 10.438437 Tokens per Sec: 2684.684382\n",
            "Epoch Step: 1700 Loss: 9.190416 Tokens per Sec: 2492.715178\n",
            "Epoch Step: 1800 Loss: 11.820976 Tokens per Sec: 2495.608220\n",
            "Epoch Step: 1900 Loss: 7.313687 Tokens per Sec: 2600.912262\n",
            "Epoch Step: 2000 Loss: 10.669505 Tokens per Sec: 2635.284008\n",
            "Epoch Step: 2100 Loss: 8.846467 Tokens per Sec: 2586.846546\n",
            "Epoch Step: 2200 Loss: 7.845901 Tokens per Sec: 2644.474284\n",
            "Epoch Step: 2300 Loss: 4.707082 Tokens per Sec: 2695.297723\n",
            "Epoch Step: 2400 Loss: 8.265239 Tokens per Sec: 2724.223505\n",
            "Epoch Step: 2500 Loss: 6.999132 Tokens per Sec: 2603.232563\n",
            "Epoch Step: 2600 Loss: 9.118370 Tokens per Sec: 2552.982807\n",
            "Epoch Step: 2700 Loss: 13.196187 Tokens per Sec: 2580.571750\n",
            "Epoch Step: 2800 Loss: 7.216707 Tokens per Sec: 2623.262914\n",
            "Epoch Step: 2900 Loss: 5.323346 Tokens per Sec: 2585.842577\n",
            "Epoch Step: 3000 Loss: 12.767136 Tokens per Sec: 2594.189987\n",
            "Epoch Step: 3100 Loss: 10.099211 Tokens per Sec: 2566.947085\n",
            "Epoch Step: 3200 Loss: 8.642183 Tokens per Sec: 2372.088168\n",
            "Epoch Step: 3300 Loss: 13.505960 Tokens per Sec: 2317.304739\n",
            "\n",
            "Example #1\n",
            "Src :  good afternoon mr. ball :   the enron corp. research group would like to conduct an informal interview with you at your convenience .   please give me some dates and times within the next 2 weeks that you might be available and i will arrange the schedule .   the people that will be interviewing you are :   vince kaminski    managing director stinson gibner    vice president grant masson    vice president vasant shanbhogue   vice president krishna krishnarao   director zimin lu    director tanya tamarchenko   manager alex huang    manager   each individual interview will last approximately 15 - 20 minutes , so we probably should allow at least   3 hours .   if you would prefer to call me with some dates and times - i can check the calendars while we are talking .   look forward to hearing from you .   thank you .   shirley crenshaw administrative coordinator research group 713/853 - 5290\n",
            "Trg :  with enron corp. research group\n",
            "Pred:  's resume\n",
            "\n",
            "Example #2\n",
            "Src :  1 . if you know that you are taking vacation for the holidays , please submit a timesheet <unk> send your timesheet if you have taken time off / rotation information has changed . sorry , we are no longer tracking overtime since you are salary based . to all a / a pool members : it is important that you let us know of any time you have taken off . to those members who are sending time on to your assistant , please make sure they forward that information on to the a / a program . with the roll out of sap , you have the ability to go on - line @ http://ehronline.enron.com/ and input your time . i will continue to email for timesheets regardless if you go on - line . this is to let you know it is time to input your time or fills out your timesheet . 2 . if you have moved recently , please provide the following and indicate the new changes when sending your timesheet . new rotation : business unit and group : effective date : location : extension : supervisor : supervisor 's location : supervisor 's extension : supervisor 's assistant : assistant 's location : assistant 's extension : co # rc # 3 . quick reminder that you can pick up your check or past period check @ eb 1198 ( if they are not already coming to your location / mail stop ) . thank you for your cooperation rt\n",
            "Trg :  / a - timesheets\n",
            "Pred:  <unk> for the weekend of <unk>\n",
            "\n",
            "Example #3\n",
            "Src :  peter and dan--   txu is in the process of amending the current guaranty to have the cap amount increased due to an increase in trading .   please review the attached document and send any commentary back to my attention .   the beneficiaries involved are both enron north america corp. and enron canada corp.   i would appreciate a prompt response in order to have the guaranty executed as soon as possible by the counterparty due to the current exposure that we currently have out to them .     thank you ,   veronica espinoza\n",
            "Trg :  energy trading -- guaranty\n",
            "Pred:  \n",
            "\n",
            "Validation perplexity: 20.282485\n",
            "Epoch 7\n",
            "Epoch Step: 100 Loss: 9.074705 Tokens per Sec: 2514.792972\n",
            "Epoch Step: 200 Loss: 1.733754 Tokens per Sec: 2499.148125\n",
            "Epoch Step: 300 Loss: 12.100001 Tokens per Sec: 2558.638887\n",
            "Epoch Step: 400 Loss: 4.903539 Tokens per Sec: 2550.611685\n",
            "Epoch Step: 500 Loss: 9.497104 Tokens per Sec: 2569.870260\n",
            "Epoch Step: 600 Loss: 5.414572 Tokens per Sec: 2553.684521\n",
            "Epoch Step: 700 Loss: 4.035221 Tokens per Sec: 2360.391093\n",
            "Epoch Step: 800 Loss: 7.159013 Tokens per Sec: 2424.819351\n",
            "Epoch Step: 900 Loss: 6.698846 Tokens per Sec: 2434.042593\n",
            "Epoch Step: 1000 Loss: 7.622132 Tokens per Sec: 2309.493303\n",
            "Epoch Step: 1100 Loss: 7.215924 Tokens per Sec: 2392.605559\n",
            "Epoch Step: 1200 Loss: 17.068600 Tokens per Sec: 2579.099330\n",
            "Epoch Step: 1300 Loss: 9.056829 Tokens per Sec: 2650.396502\n",
            "Epoch Step: 1400 Loss: 4.073847 Tokens per Sec: 2620.316314\n",
            "Epoch Step: 1500 Loss: 5.224677 Tokens per Sec: 2725.349255\n",
            "Epoch Step: 1600 Loss: 8.792591 Tokens per Sec: 2600.857235\n",
            "Epoch Step: 1700 Loss: 10.323072 Tokens per Sec: 2585.808192\n",
            "Epoch Step: 1800 Loss: 7.470845 Tokens per Sec: 2687.543298\n",
            "Epoch Step: 1900 Loss: 7.243816 Tokens per Sec: 2520.928412\n",
            "Epoch Step: 2000 Loss: 7.644307 Tokens per Sec: 2624.072305\n",
            "Epoch Step: 2100 Loss: 4.772020 Tokens per Sec: 2679.637603\n",
            "Epoch Step: 2200 Loss: 14.974367 Tokens per Sec: 2611.888565\n",
            "Epoch Step: 2300 Loss: 4.245668 Tokens per Sec: 2567.748168\n",
            "Epoch Step: 2400 Loss: 16.059692 Tokens per Sec: 2647.395564\n",
            "Epoch Step: 2500 Loss: 9.904968 Tokens per Sec: 2487.328676\n",
            "Epoch Step: 2600 Loss: 11.472410 Tokens per Sec: 2356.278792\n",
            "Epoch Step: 2700 Loss: 5.995524 Tokens per Sec: 2443.724838\n",
            "Epoch Step: 2800 Loss: 3.912551 Tokens per Sec: 2704.813412\n",
            "Epoch Step: 2900 Loss: 8.191983 Tokens per Sec: 2486.412183\n",
            "Epoch Step: 3000 Loss: 4.736380 Tokens per Sec: 2616.446039\n",
            "Epoch Step: 3100 Loss: 6.140108 Tokens per Sec: 2551.426698\n",
            "Epoch Step: 3200 Loss: 6.869984 Tokens per Sec: 2590.044693\n",
            "Epoch Step: 3300 Loss: 6.297182 Tokens per Sec: 2650.691942\n",
            "\n",
            "Example #1\n",
            "Src :  good afternoon mr. ball :   the enron corp. research group would like to conduct an informal interview with you at your convenience .   please give me some dates and times within the next 2 weeks that you might be available and i will arrange the schedule .   the people that will be interviewing you are :   vince kaminski    managing director stinson gibner    vice president grant masson    vice president vasant shanbhogue   vice president krishna krishnarao   director zimin lu    director tanya tamarchenko   manager alex huang    manager   each individual interview will last approximately 15 - 20 minutes , so we probably should allow at least   3 hours .   if you would prefer to call me with some dates and times - i can check the calendars while we are talking .   look forward to hearing from you .   thank you .   shirley crenshaw administrative coordinator research group 713/853 - 5290\n",
            "Trg :  with enron corp. research group\n",
            "Pred:  enron analyst program\n",
            "\n",
            "Example #2\n",
            "Src :  1 . if you know that you are taking vacation for the holidays , please submit a timesheet <unk> send your timesheet if you have taken time off / rotation information has changed . sorry , we are no longer tracking overtime since you are salary based . to all a / a pool members : it is important that you let us know of any time you have taken off . to those members who are sending time on to your assistant , please make sure they forward that information on to the a / a program . with the roll out of sap , you have the ability to go on - line @ http://ehronline.enron.com/ and input your time . i will continue to email for timesheets regardless if you go on - line . this is to let you know it is time to input your time or fills out your timesheet . 2 . if you have moved recently , please provide the following and indicate the new changes when sending your timesheet . new rotation : business unit and group : effective date : location : extension : supervisor : supervisor 's location : supervisor 's extension : supervisor 's assistant : assistant 's location : assistant 's extension : co # rc # 3 . quick reminder that you can pick up your check or past period check @ eb 1198 ( if they are not already coming to your location / mail stop ) . thank you for your cooperation rt\n",
            "Trg :  / a - timesheets\n",
            "Pred:  <unk> / <unk> / <unk>\n",
            "\n",
            "Example #3\n",
            "Src :  peter and dan--   txu is in the process of amending the current guaranty to have the cap amount increased due to an increase in trading .   please review the attached document and send any commentary back to my attention .   the beneficiaries involved are both enron north america corp. and enron canada corp.   i would appreciate a prompt response in order to have the guaranty executed as soon as possible by the counterparty due to the current exposure that we currently have out to them .     thank you ,   veronica espinoza\n",
            "Trg :  energy trading -- guaranty\n",
            "Pred:  \n",
            "\n",
            "Validation perplexity: 22.674804\n",
            "Epoch 8\n",
            "Epoch Step: 100 Loss: 4.966638 Tokens per Sec: 2280.885742\n",
            "Epoch Step: 200 Loss: 5.801080 Tokens per Sec: 2538.427145\n",
            "Epoch Step: 300 Loss: 3.550627 Tokens per Sec: 2574.778764\n",
            "Epoch Step: 400 Loss: 7.604006 Tokens per Sec: 2600.615890\n",
            "Epoch Step: 500 Loss: 4.923227 Tokens per Sec: 2698.024787\n",
            "Epoch Step: 600 Loss: 10.382490 Tokens per Sec: 2660.908606\n",
            "Epoch Step: 700 Loss: 5.322748 Tokens per Sec: 2655.508979\n",
            "Epoch Step: 800 Loss: 5.458543 Tokens per Sec: 2641.889882\n",
            "Epoch Step: 900 Loss: 5.542087 Tokens per Sec: 2495.245639\n",
            "Epoch Step: 1000 Loss: 12.370814 Tokens per Sec: 2644.061627\n",
            "Epoch Step: 1100 Loss: 3.801679 Tokens per Sec: 2717.630626\n",
            "Epoch Step: 1200 Loss: 14.850591 Tokens per Sec: 2642.992227\n",
            "Epoch Step: 1300 Loss: 10.251930 Tokens per Sec: 2586.275509\n",
            "Epoch Step: 1400 Loss: 6.893307 Tokens per Sec: 2683.120339\n",
            "Epoch Step: 1500 Loss: 4.361377 Tokens per Sec: 2668.420080\n",
            "Epoch Step: 1600 Loss: 8.691318 Tokens per Sec: 2659.160985\n",
            "Epoch Step: 1700 Loss: 7.183273 Tokens per Sec: 2583.919704\n",
            "Epoch Step: 1800 Loss: 3.207075 Tokens per Sec: 2593.152418\n",
            "Epoch Step: 1900 Loss: 5.882164 Tokens per Sec: 2443.460555\n",
            "Epoch Step: 2000 Loss: 6.493421 Tokens per Sec: 2295.021508\n",
            "Epoch Step: 2100 Loss: 5.970579 Tokens per Sec: 2367.229929\n",
            "Epoch Step: 2200 Loss: 4.696832 Tokens per Sec: 2520.046401\n",
            "Epoch Step: 2300 Loss: 3.679482 Tokens per Sec: 2621.829086\n",
            "Epoch Step: 2400 Loss: 6.893035 Tokens per Sec: 2694.164614\n",
            "Epoch Step: 2500 Loss: 6.122704 Tokens per Sec: 2626.151090\n",
            "Epoch Step: 2600 Loss: 5.488792 Tokens per Sec: 2679.638476\n",
            "Epoch Step: 2700 Loss: 5.788548 Tokens per Sec: 2595.361402\n",
            "Epoch Step: 2800 Loss: 5.225916 Tokens per Sec: 2683.145550\n",
            "Epoch Step: 2900 Loss: 7.472011 Tokens per Sec: 2555.200830\n",
            "Epoch Step: 3000 Loss: 14.533057 Tokens per Sec: 2578.470637\n",
            "Epoch Step: 3100 Loss: 6.366988 Tokens per Sec: 2636.425641\n",
            "Epoch Step: 3200 Loss: 10.794581 Tokens per Sec: 2534.919181\n",
            "Epoch Step: 3300 Loss: 9.302916 Tokens per Sec: 2568.052600\n",
            "\n",
            "Example #1\n",
            "Src :  good afternoon mr. ball :   the enron corp. research group would like to conduct an informal interview with you at your convenience .   please give me some dates and times within the next 2 weeks that you might be available and i will arrange the schedule .   the people that will be interviewing you are :   vince kaminski    managing director stinson gibner    vice president grant masson    vice president vasant shanbhogue   vice president krishna krishnarao   director zimin lu    director tanya tamarchenko   manager alex huang    manager   each individual interview will last approximately 15 - 20 minutes , so we probably should allow at least   3 hours .   if you would prefer to call me with some dates and times - i can check the calendars while we are talking .   look forward to hearing from you .   thank you .   shirley crenshaw administrative coordinator research group 713/853 - 5290\n",
            "Trg :  with enron corp. research group\n",
            "Pred:  <unk> : enron corp. research group\n",
            "\n",
            "Example #2\n",
            "Src :  1 . if you know that you are taking vacation for the holidays , please submit a timesheet <unk> send your timesheet if you have taken time off / rotation information has changed . sorry , we are no longer tracking overtime since you are salary based . to all a / a pool members : it is important that you let us know of any time you have taken off . to those members who are sending time on to your assistant , please make sure they forward that information on to the a / a program . with the roll out of sap , you have the ability to go on - line @ http://ehronline.enron.com/ and input your time . i will continue to email for timesheets regardless if you go on - line . this is to let you know it is time to input your time or fills out your timesheet . 2 . if you have moved recently , please provide the following and indicate the new changes when sending your timesheet . new rotation : business unit and group : effective date : location : extension : supervisor : supervisor 's location : supervisor 's extension : supervisor 's assistant : assistant 's location : assistant 's extension : co # rc # 3 . quick reminder that you can pick up your check or past period check @ eb 1198 ( if they are not already coming to your location / mail stop ) . thank you for your cooperation rt\n",
            "Trg :  / a - timesheets\n",
            "Pred:  <unk> for the year 's desk\n",
            "\n",
            "Example #3\n",
            "Src :  peter and dan--   txu is in the process of amending the current guaranty to have the cap amount increased due to an increase in trading .   please review the attached document and send any commentary back to my attention .   the beneficiaries involved are both enron north america corp. and enron canada corp.   i would appreciate a prompt response in order to have the guaranty executed as soon as possible by the counterparty due to the current exposure that we currently have out to them .     thank you ,   veronica espinoza\n",
            "Trg :  energy trading -- guaranty\n",
            "Pred:  guaranty\n",
            "\n",
            "Validation perplexity: 25.908397\n",
            "Epoch 9\n",
            "Epoch Step: 100 Loss: 5.027025 Tokens per Sec: 2546.154578\n",
            "Epoch Step: 200 Loss: 1.680248 Tokens per Sec: 2663.003844\n",
            "Epoch Step: 300 Loss: 3.705888 Tokens per Sec: 2582.930991\n",
            "Epoch Step: 400 Loss: 9.063460 Tokens per Sec: 2663.683665\n",
            "Epoch Step: 500 Loss: 7.419744 Tokens per Sec: 2661.570322\n",
            "Epoch Step: 600 Loss: 4.620015 Tokens per Sec: 2691.200753\n",
            "Epoch Step: 700 Loss: 0.460077 Tokens per Sec: 2591.789136\n",
            "Epoch Step: 800 Loss: 4.404256 Tokens per Sec: 2635.082191\n",
            "Epoch Step: 900 Loss: 4.382694 Tokens per Sec: 2623.888396\n",
            "Epoch Step: 1000 Loss: 7.467493 Tokens per Sec: 2598.995701\n",
            "Epoch Step: 1100 Loss: 6.190669 Tokens per Sec: 2576.157190\n",
            "Epoch Step: 1200 Loss: 3.315538 Tokens per Sec: 2552.823186\n",
            "Epoch Step: 1300 Loss: 4.727669 Tokens per Sec: 2427.505181\n",
            "Epoch Step: 1400 Loss: 7.864166 Tokens per Sec: 2328.728360\n",
            "Epoch Step: 1500 Loss: 7.153136 Tokens per Sec: 2448.454264\n",
            "Epoch Step: 1600 Loss: 5.013111 Tokens per Sec: 2701.286181\n",
            "Epoch Step: 1700 Loss: 3.069095 Tokens per Sec: 2682.587693\n",
            "Epoch Step: 1800 Loss: 4.440977 Tokens per Sec: 2590.402402\n",
            "Epoch Step: 1900 Loss: 4.428820 Tokens per Sec: 2616.531227\n",
            "Epoch Step: 2000 Loss: 10.782289 Tokens per Sec: 2646.940381\n",
            "Epoch Step: 2100 Loss: 7.568232 Tokens per Sec: 2704.974601\n",
            "Epoch Step: 2200 Loss: 7.998357 Tokens per Sec: 2673.843436\n",
            "Epoch Step: 2300 Loss: 3.792451 Tokens per Sec: 2561.846655\n",
            "Epoch Step: 2400 Loss: 5.357273 Tokens per Sec: 2676.183073\n",
            "Epoch Step: 2500 Loss: 4.578969 Tokens per Sec: 2668.438987\n",
            "Epoch Step: 2600 Loss: 5.398382 Tokens per Sec: 2619.451188\n",
            "Epoch Step: 2700 Loss: 7.663218 Tokens per Sec: 2620.416269\n",
            "Epoch Step: 2800 Loss: 4.816466 Tokens per Sec: 2556.560641\n",
            "Epoch Step: 2900 Loss: 4.158280 Tokens per Sec: 2603.756226\n",
            "Epoch Step: 3000 Loss: 4.982477 Tokens per Sec: 2343.646378\n",
            "Epoch Step: 3100 Loss: 8.469717 Tokens per Sec: 2266.909781\n",
            "Epoch Step: 3200 Loss: 4.526480 Tokens per Sec: 2415.075783\n",
            "Epoch Step: 3300 Loss: 2.033262 Tokens per Sec: 2332.663600\n",
            "\n",
            "Example #1\n",
            "Src :  good afternoon mr. ball :   the enron corp. research group would like to conduct an informal interview with you at your convenience .   please give me some dates and times within the next 2 weeks that you might be available and i will arrange the schedule .   the people that will be interviewing you are :   vince kaminski    managing director stinson gibner    vice president grant masson    vice president vasant shanbhogue   vice president krishna krishnarao   director zimin lu    director tanya tamarchenko   manager alex huang    manager   each individual interview will last approximately 15 - 20 minutes , so we probably should allow at least   3 hours .   if you would prefer to call me with some dates and times - i can check the calendars while we are talking .   look forward to hearing from you .   thank you .   shirley crenshaw administrative coordinator research group 713/853 - 5290\n",
            "Trg :  with enron corp. research group\n",
            "Pred:  - enron corp. research group\n",
            "\n",
            "Example #2\n",
            "Src :  1 . if you know that you are taking vacation for the holidays , please submit a timesheet <unk> send your timesheet if you have taken time off / rotation information has changed . sorry , we are no longer tracking overtime since you are salary based . to all a / a pool members : it is important that you let us know of any time you have taken off . to those members who are sending time on to your assistant , please make sure they forward that information on to the a / a program . with the roll out of sap , you have the ability to go on - line @ http://ehronline.enron.com/ and input your time . i will continue to email for timesheets regardless if you go on - line . this is to let you know it is time to input your time or fills out your timesheet . 2 . if you have moved recently , please provide the following and indicate the new changes when sending your timesheet . new rotation : business unit and group : effective date : location : extension : supervisor : supervisor 's location : supervisor 's extension : supervisor 's assistant : assistant 's location : assistant 's extension : co # rc # 3 . quick reminder that you can pick up your check or past period check @ eb 1198 ( if they are not already coming to your location / mail stop ) . thank you for your cooperation rt\n",
            "Trg :  / a - timesheets\n",
            "Pred:  k # 's <unk> !\n",
            "\n",
            "Example #3\n",
            "Src :  peter and dan--   txu is in the process of amending the current guaranty to have the cap amount increased due to an increase in trading .   please review the attached document and send any commentary back to my attention .   the beneficiaries involved are both enron north america corp. and enron canada corp.   i would appreciate a prompt response in order to have the guaranty executed as soon as possible by the counterparty due to the current exposure that we currently have out to them .     thank you ,   veronica espinoza\n",
            "Trg :  energy trading -- guaranty\n",
            "Pred:  \n",
            "\n",
            "Validation perplexity: 29.230842\n"
          ],
          "name": "stdout"
        }
      ]
    },
    {
      "metadata": {
        "id": "Y_XxpNlhnGTh",
        "colab_type": "code",
        "outputId": "38ef59e9-3823-404d-cb80-59bb1ad1897f",
        "colab": {
          "base_uri": "https://localhost:8080/",
          "height": 295
        }
      },
      "cell_type": "code",
      "source": [
        "plot_perplexity(dev_perplexities)"
      ],
      "execution_count": 0,
      "outputs": [
        {
          "output_type": "display_data",
          "data": {
            "image/png": "[encoded data removed]",
            "text/plain": [
              "<Figure size 432x288 with 1 Axes>"
            ]
          },
          "metadata": {
            "tags": []
          }
        }
      ]
    },
    {
      "metadata": {
        "id": "ZhwXVZ_rnGTk",
        "colab_type": "text"
      },
      "cell_type": "markdown",
      "source": [
        "## Prediction and Evaluation\n",
        "\n",
        "Once trained we can use the model to produce a set of translations. \n",
        "\n",
        "If we translate the whole validation set, we can use [SacreBLEU](https://github.com/mjpost/sacreBLEU) to get a [BLEU score](https://en.wikipedia.org/wiki/BLEU), which is the most common way to evaluate translations.\n",
        "\n",
        "#### Important sidenote\n",
        "Typically you would use SacreBLEU from the **command line** using the output file and original (possibly tokenized) development reference file. This will give you a nice version string that shows how the BLEU score was calculated; for example, if it was lowercased, if it was tokenized (and how), and what smoothing was used. If you want to learn more about how BLEU scores are (and should be) reported, check out [this paper](https://arxiv.org/abs/1804.08771).\n",
        "\n",
        "However, right now our pre-processed data is only in memory, so we'll calculate the BLEU score right from this notebook for demonstration purposes.\n",
        "\n",
        "We'll first test the raw BLEU function:"
      ]
    },
    {
      "metadata": {
        "id": "rogqM56C1pT8",
        "colab_type": "code",
        "outputId": "dbebee55-cb96-4bc6-90cd-c2f51f2e367e",
        "colab": {
          "base_uri": "https://localhost:8080/",
          "height": 51
        }
      },
      "cell_type": "code",
      "source": [
        "!pip install sacrebleu"
      ],
      "execution_count": 0,
      "outputs": [
        {
          "output_type": "stream",
          "text": [
            "Requirement already satisfied: sacrebleu in /usr/local/lib/python3.6/dist-packages (1.3.1)\n",
            "Requirement already satisfied: typing in /usr/local/lib/python3.6/dist-packages (from sacrebleu) (3.6.6)\n"
          ],
          "name": "stdout"
        }
      ]
    },
    {
      "metadata": {
        "id": "5N0sRkOJnGTl",
        "colab_type": "code",
        "colab": {}
      },
      "cell_type": "code",
      "source": [
        "import sacrebleu"
      ],
      "execution_count": 0,
      "outputs": []
    },
    {
      "metadata": {
        "id": "dL8JMn6QnGTp",
        "colab_type": "code",
        "outputId": "84ab37ec-a194-49e1-cd99-6a18a271854c",
        "colab": {
          "base_uri": "https://localhost:8080/",
          "height": 34
        }
      },
      "cell_type": "code",
      "source": [
        "# this should result in a perfect BLEU of 100%\n",
        "hypotheses = [\"this is a test\"]\n",
        "references = [\"this is a test\"]\n",
        "bleu = sacrebleu.raw_corpus_bleu(hypotheses, [references], .01).score\n",
        "print(bleu)"
      ],
      "execution_count": 0,
      "outputs": [
        {
          "output_type": "stream",
          "text": [
            "100.00000000000004\n"
          ],
          "name": "stdout"
        }
      ]
    },
    {
      "metadata": {
        "id": "gUKBfm5bnGTt",
        "colab_type": "code",
        "outputId": "3f1091f9-bdca-4258-be7d-66a765659dd7",
        "colab": {
          "base_uri": "https://localhost:8080/",
          "height": 34
        }
      },
      "cell_type": "code",
      "source": [
        "# here the BLEU score will be lower, because some n-grams won't match\n",
        "hypotheses = [\"this is a test\"]\n",
        "references = [\"this is a fest\"]\n",
        "bleu = sacrebleu.raw_corpus_bleu(hypotheses, [references], .01).score\n",
        "print(bleu)"
      ],
      "execution_count": 0,
      "outputs": [
        {
          "output_type": "stream",
          "text": [
            "22.360679774997894\n"
          ],
          "name": "stdout"
        }
      ]
    },
    {
      "metadata": {
        "id": "tsBr5E2NnGTx",
        "colab_type": "text"
      },
      "cell_type": "markdown",
      "source": [
        "Since we did some filtering for speed, our validation set contains 690 sentences.\n",
        "The references are the tokenized versions, but they should not contain out-of-vocabulary UNKs that our network might have seen. So we'll take the references straight out of the `valid_data` object:"
      ]
    },
    {
      "metadata": {
        "id": "c-G-Ier2nGTy",
        "colab_type": "code",
        "outputId": "6521cd56-f5d9-49ac-d823-8507ed28072c",
        "colab": {
          "base_uri": "https://localhost:8080/",
          "height": 34
        }
      },
      "cell_type": "code",
      "source": [
        "len(valid_data)"
      ],
      "execution_count": 0,
      "outputs": [
        {
          "output_type": "execute_result",
          "data": {
            "text/plain": [
              "19073"
            ]
          },
          "metadata": {
            "tags": []
          },
          "execution_count": 37
        }
      ]
    },
    {
      "metadata": {
        "id": "SjU3yHoRnGT0",
        "colab_type": "code",
        "outputId": "d6063f6c-0c14-491d-a524-38253ca647fa",
        "colab": {
          "base_uri": "https://localhost:8080/",
          "height": 51
        }
      },
      "cell_type": "code",
      "source": [
        "references = [\" \".join(example.trg) for example in valid_data]\n",
        "print(len(references))\n",
        "print(references[0])"
      ],
      "execution_count": 0,
      "outputs": [
        {
          "output_type": "stream",
          "text": [
            "19073\n",
            "interview with enron corp. research group\n"
          ],
          "name": "stdout"
        }
      ]
    },
    {
      "metadata": {
        "id": "IQYmEvVNnGT8",
        "colab_type": "text"
      },
      "cell_type": "markdown",
      "source": [
        "**Now we translate the validation set!**\n",
        "\n",
        "This might take a little bit of time.\n",
        "\n",
        "Note that `greedy_decode` will cut-off the sentence when it encounters the end-of-sequence symbol, if we provide it the index of that symbol."
      ]
    },
    {
      "metadata": {
        "id": "JB_-herJIwp3",
        "colab_type": "code",
        "colab": {}
      },
      "cell_type": "code",
      "source": [
        "from tqdm import tqdm"
      ],
      "execution_count": 0,
      "outputs": []
    },
    {
      "metadata": {
        "id": "9V3N3kUHnGT8",
        "colab_type": "code",
        "outputId": "2e042fdd-484f-4755-c5d5-8244010bc6d3",
        "colab": {
          "base_uri": "https://localhost:8080/",
          "height": 34
        }
      },
      "cell_type": "code",
      "source": [
        "hypotheses = []\n",
        "alphas = []  # save the last attention scores\n",
        "for batch in tqdm(valid_iter):\n",
        "  batch = rebatch(PAD_INDEX, batch)\n",
        "  pred, attention = greedy_decode(\n",
        "    model, batch.src, batch.src_mask, batch.src_lengths, max_len=25,\n",
        "    sos_index=TRG.vocab.stoi[SOS_TOKEN],\n",
        "    eos_index=TRG.vocab.stoi[EOS_TOKEN])\n",
        "  hypotheses.append(pred)\n",
        "  alphas.append(attention)"
      ],
      "execution_count": 0,
      "outputs": [
        {
          "output_type": "stream",
          "text": [
            "100%|██████████| 19073/19073 [09:03<00:00, 35.09it/s]\n"
          ],
          "name": "stderr"
        }
      ]
    },
    {
      "metadata": {
        "id": "EiXKOzOU5UNU",
        "colab_type": "code",
        "outputId": "30488535-1d8b-4305-f83e-67671ff05565",
        "colab": {
          "base_uri": "https://localhost:8080/",
          "height": 34
        }
      },
      "cell_type": "code",
      "source": [
        "references[0]"
      ],
      "execution_count": 0,
      "outputs": [
        {
          "output_type": "execute_result",
          "data": {
            "text/plain": [
              "'interview with enron corp. research group'"
            ]
          },
          "metadata": {
            "tags": []
          },
          "execution_count": 42
        }
      ]
    },
    {
      "metadata": {
        "id": "Aypot9abnGT9",
        "colab_type": "code",
        "outputId": "ea336e9a-167b-4635-e886-d105788840a3",
        "colab": {
          "base_uri": "https://localhost:8080/",
          "height": 34
        }
      },
      "cell_type": "code",
      "source": [
        "# we will still need to convert the indices to actual words!\n",
        "hypotheses[0]"
      ],
      "execution_count": 0,
      "outputs": [
        {
          "output_type": "execute_result",
          "data": {
            "text/plain": [
              "array([  3,  18, 219, 343, 107])"
            ]
          },
          "metadata": {
            "tags": []
          },
          "execution_count": 43
        }
      ]
    },
    {
      "metadata": {
        "id": "xjJtrxrynGUA",
        "colab_type": "code",
        "outputId": "c6e6c674-e6fe-4608-9162-16f74be2bb13",
        "colab": {
          "base_uri": "https://localhost:8080/",
          "height": 34
        }
      },
      "cell_type": "code",
      "source": [
        "hypotheses = [lookup_words(x, TRG.vocab) for x in hypotheses]\n",
        "hypotheses[0]"
      ],
      "execution_count": 0,
      "outputs": [
        {
          "output_type": "execute_result",
          "data": {
            "text/plain": [
              "['-', 'enron', 'corp.', 'research', 'group']"
            ]
          },
          "metadata": {
            "tags": []
          },
          "execution_count": 44
        }
      ]
    },
    {
      "metadata": {
        "id": "BBN6EV4vnGUC",
        "colab_type": "code",
        "outputId": "82b04776-8307-4526-a97b-418aade1dd4e",
        "colab": {
          "base_uri": "https://localhost:8080/",
          "height": 51
        }
      },
      "cell_type": "code",
      "source": [
        "# finally, the SacreBLEU raw scorer requires string input, so we convert the lists to strings\n",
        "hypotheses = [\" \".join(x) for x in hypotheses]\n",
        "print(len(hypotheses))\n",
        "print(hypotheses[0])"
      ],
      "execution_count": 0,
      "outputs": [
        {
          "output_type": "stream",
          "text": [
            "19073\n",
            "- enron corp. research group\n"
          ],
          "name": "stdout"
        }
      ]
    },
    {
      "metadata": {
        "id": "pbPThNXanGUD",
        "colab_type": "code",
        "outputId": "d6dc9b6a-26cd-4671-c048-4b6986366227",
        "colab": {
          "base_uri": "https://localhost:8080/",
          "height": 34
        }
      },
      "cell_type": "code",
      "source": [
        "# now we can compute the BLEU score!\n",
        "bleu = sacrebleu.raw_corpus_bleu(hypotheses, [references], .01).score\n",
        "print(bleu)"
      ],
      "execution_count": 0,
      "outputs": [
        {
          "output_type": "stream",
          "text": [
            "16.033852468645396\n"
          ],
          "name": "stdout"
        }
      ]
    },
    {
      "metadata": {
        "id": "UfDpe1QF9SLY",
        "colab_type": "code",
        "colab": {}
      },
      "cell_type": "code",
      "source": [
        ""
      ],
      "execution_count": 0,
      "outputs": []
    },
    {
      "metadata": {
        "id": "Sv-wR2bi9Sgn",
        "colab_type": "text"
      },
      "cell_type": "markdown",
      "source": [
        "## Rouge"
      ]
    },
    {
      "metadata": {
        "id": "o7-j0Y-J-DTh",
        "colab_type": "code",
        "outputId": "28fbf74b-a5a2-456b-94b2-064530fc1c55",
        "colab": {
          "base_uri": "https://localhost:8080/",
          "height": 122
        }
      },
      "cell_type": "code",
      "source": [
        "# !pip install py-rouge"
      ],
      "execution_count": 0,
      "outputs": [
        {
          "output_type": "stream",
          "text": [
            "Collecting py-rouge\n",
            "\u001b[?25l  Downloading https://files.pythonhosted.org/packages/9c/1d/0bdbaf559fb7afe32308ebc84a2028600988212d7eb7fb9f69c4e829e4a0/py_rouge-1.1-py3-none-any.whl (56kB)\n",
            "\u001b[K    100% |████████████████████████████████| 61kB 2.8MB/s \n",
            "\u001b[?25hInstalling collected packages: py-rouge\n",
            "Successfully installed py-rouge-1.1\n"
          ],
          "name": "stdout"
        }
      ]
    },
    {
      "metadata": {
        "id": "4kvsPlWd-L9z",
        "colab_type": "code",
        "outputId": "10a3d7ce-d576-4b80-89af-d8666ed0d1d0",
        "colab": {
          "base_uri": "https://localhost:8080/",
          "height": 68
        }
      },
      "cell_type": "code",
      "source": [
        "import rouge\n",
        "import nltk\n",
        "nltk.download('punkt')"
      ],
      "execution_count": 0,
      "outputs": [
        {
          "output_type": "stream",
          "text": [
            "[nltk_data] Downloading package punkt to /root/nltk_data...\n",
            "[nltk_data]   Unzipping tokenizers/punkt.zip.\n"
          ],
          "name": "stdout"
        },
        {
          "output_type": "execute_result",
          "data": {
            "text/plain": [
              "True"
            ]
          },
          "metadata": {
            "tags": []
          },
          "execution_count": 50
        }
      ]
    },
    {
      "metadata": {
        "id": "-00wegUE9EvL",
        "colab_type": "code",
        "colab": {}
      },
      "cell_type": "code",
      "source": [
        "# references and hypotheses are generated from the last section\n",
        "hyps, refs = references, hypotheses"
      ],
      "execution_count": 0,
      "outputs": []
    },
    {
      "metadata": {
        "id": "jG1vz5-V9VZh",
        "colab_type": "code",
        "outputId": "955029f3-cc10-42e5-da0f-6bc9a4bc07e6",
        "colab": {
          "base_uri": "https://localhost:8080/",
          "height": 548
        }
      },
      "cell_type": "code",
      "source": [
        "def prepare_results(p, r, f):\n",
        "    return '\\t{}:\\t{}: {:5.2f}\\t{}: {:5.2f}\\t{}: {:5.2f}'.format(metric, 'P', 100.0 * p, 'R', 100.0 * r, 'F1', 100.0 * f)\n",
        "\n",
        "\n",
        "for aggregator in ['Avg', 'Best', 'Individual']:\n",
        "    print('Evaluation with {}'.format(aggregator))\n",
        "    apply_avg = aggregator == 'Avg'\n",
        "    apply_best = aggregator == 'Best'\n",
        "\n",
        "    evaluator = rouge.Rouge(metrics=['rouge-n', 'rouge-l', 'rouge-w'],\n",
        "                           max_n=4,\n",
        "                           limit_length=True,\n",
        "                           length_limit=100,\n",
        "                           length_limit_type='words',\n",
        "                           apply_avg=apply_avg,\n",
        "                           apply_best=apply_best,\n",
        "                           alpha=0.5, # Default F1_score\n",
        "                           weight_factor=1.2,\n",
        "                           stemming=True)\n",
        "\n",
        "    all_hypothesis = hyps\n",
        "    all_references = refs\n",
        "\n",
        "    scores = evaluator.get_scores(all_hypothesis, all_references)\n",
        "\n",
        "    for metric, results in sorted(scores.items(), key=lambda x: x[0]):\n",
        "        if not apply_avg and not apply_best: # value is a type of list as we evaluate each summary vs each reference\n",
        "            for hypothesis_id, results_per_ref in enumerate(results):\n",
        "                nb_references = len(results_per_ref['p'])\n",
        "### skipp printing for individual rouge\n",
        "#                 for reference_id in range(nb_references):\n",
        "#                     print('\\tHypothesis #{} & Reference #{}: '.format(hypothesis_id, reference_id))\n",
        "#                     print('\\t' + prepare_results(results_per_ref['p'][reference_id], results_per_ref['r'][reference_id], results_per_ref['f'][reference_id]))\n",
        "            print()\n",
        "        else:\n",
        "            print(prepare_results(results['p'], results['r'], results['f']))\n",
        "    print()"
      ],
      "execution_count": 0,
      "outputs": [
        {
          "output_type": "stream",
          "text": [
            "Evaluation with Avg\n",
            "\trouge-1:\tP: 16.01\tR: 25.07\tF1: 18.51\n",
            "\trouge-2:\tP:  8.69\tR: 13.33\tF1: 10.06\n",
            "\trouge-3:\tP:  5.76\tR:  9.20\tF1:  6.70\n",
            "\trouge-4:\tP:  3.95\tR:  5.94\tF1:  4.52\n",
            "\trouge-l:\tP: 17.77\tR: 25.97\tF1: 20.27\n",
            "\trouge-w:\tP: 15.55\tR: 19.89\tF1: 16.07\n",
            "\n",
            "Evaluation with Best\n"
          ],
          "name": "stdout"
        },
        {
          "output_type": "error",
          "ename": "ZeroDivisionError",
          "evalue": "ignored",
          "traceback": [
            "\u001b[0;31m---------------------------------------------------------------------------\u001b[0m",
            "\u001b[0;31mZeroDivisionError\u001b[0m                         Traceback (most recent call last)",
            "\u001b[0;32m<ipython-input-53-1947d5712589>\u001b[0m in \u001b[0;36m<module>\u001b[0;34m()\u001b[0m\n\u001b[1;32m     22\u001b[0m     \u001b[0mall_references\u001b[0m \u001b[0;34m=\u001b[0m \u001b[0mrefs\u001b[0m\u001b[0;34m\u001b[0m\u001b[0;34m\u001b[0m\u001b[0m\n\u001b[1;32m     23\u001b[0m \u001b[0;34m\u001b[0m\u001b[0m\n\u001b[0;32m---> 24\u001b[0;31m     \u001b[0mscores\u001b[0m \u001b[0;34m=\u001b[0m \u001b[0mevaluator\u001b[0m\u001b[0;34m.\u001b[0m\u001b[0mget_scores\u001b[0m\u001b[0;34m(\u001b[0m\u001b[0mall_hypothesis\u001b[0m\u001b[0;34m,\u001b[0m \u001b[0mall_references\u001b[0m\u001b[0;34m)\u001b[0m\u001b[0;34m\u001b[0m\u001b[0;34m\u001b[0m\u001b[0m\n\u001b[0m\u001b[1;32m     25\u001b[0m \u001b[0;34m\u001b[0m\u001b[0m\n\u001b[1;32m     26\u001b[0m     \u001b[0;32mfor\u001b[0m \u001b[0mmetric\u001b[0m\u001b[0;34m,\u001b[0m \u001b[0mresults\u001b[0m \u001b[0;32min\u001b[0m \u001b[0msorted\u001b[0m\u001b[0;34m(\u001b[0m\u001b[0mscores\u001b[0m\u001b[0;34m.\u001b[0m\u001b[0mitems\u001b[0m\u001b[0;34m(\u001b[0m\u001b[0;34m)\u001b[0m\u001b[0;34m,\u001b[0m \u001b[0mkey\u001b[0m\u001b[0;34m=\u001b[0m\u001b[0;32mlambda\u001b[0m \u001b[0mx\u001b[0m\u001b[0;34m:\u001b[0m \u001b[0mx\u001b[0m\u001b[0;34m[\u001b[0m\u001b[0;36m0\u001b[0m\u001b[0;34m]\u001b[0m\u001b[0;34m)\u001b[0m\u001b[0;34m:\u001b[0m\u001b[0;34m\u001b[0m\u001b[0;34m\u001b[0m\u001b[0m\n",
            "\u001b[0;32m/usr/local/lib/python3.6/dist-packages/rouge/rouge.py\u001b[0m in \u001b[0;36mget_scores\u001b[0;34m(self, hypothesis, references)\u001b[0m\n\u001b[1;32m    483\u001b[0m         \u001b[0mhas_rouge_w_metric\u001b[0m \u001b[0;34m=\u001b[0m \u001b[0mlen\u001b[0m\u001b[0;34m(\u001b[0m\u001b[0;34m[\u001b[0m\u001b[0mmetric\u001b[0m \u001b[0;32mfor\u001b[0m \u001b[0mmetric\u001b[0m \u001b[0;32min\u001b[0m \u001b[0mself\u001b[0m\u001b[0;34m.\u001b[0m\u001b[0mmetrics\u001b[0m \u001b[0;32mif\u001b[0m \u001b[0mmetric\u001b[0m\u001b[0;34m.\u001b[0m\u001b[0msplit\u001b[0m\u001b[0;34m(\u001b[0m\u001b[0;34m'-'\u001b[0m\u001b[0;34m)\u001b[0m\u001b[0;34m[\u001b[0m\u001b[0;34m-\u001b[0m\u001b[0;36m1\u001b[0m\u001b[0;34m]\u001b[0m\u001b[0;34m.\u001b[0m\u001b[0mlower\u001b[0m\u001b[0;34m(\u001b[0m\u001b[0;34m)\u001b[0m \u001b[0;34m==\u001b[0m \u001b[0;34m'w'\u001b[0m\u001b[0;34m]\u001b[0m\u001b[0;34m)\u001b[0m \u001b[0;34m>\u001b[0m \u001b[0;36m0\u001b[0m\u001b[0;34m\u001b[0m\u001b[0;34m\u001b[0m\u001b[0m\n\u001b[1;32m    484\u001b[0m         \u001b[0;32mif\u001b[0m \u001b[0mhas_rouge_w_metric\u001b[0m\u001b[0;34m:\u001b[0m\u001b[0;34m\u001b[0m\u001b[0;34m\u001b[0m\u001b[0m\n\u001b[0;32m--> 485\u001b[0;31m             \u001b[0mscores\u001b[0m \u001b[0;34m=\u001b[0m \u001b[0;34m{\u001b[0m\u001b[0;34m**\u001b[0m\u001b[0mscores\u001b[0m\u001b[0;34m,\u001b[0m \u001b[0;34m**\u001b[0m\u001b[0mself\u001b[0m\u001b[0;34m.\u001b[0m\u001b[0m_get_scores_rouge_l_or_w\u001b[0m\u001b[0;34m(\u001b[0m\u001b[0mhypothesis\u001b[0m\u001b[0;34m,\u001b[0m \u001b[0mreferences\u001b[0m\u001b[0;34m,\u001b[0m \u001b[0;32mTrue\u001b[0m\u001b[0;34m)\u001b[0m\u001b[0;34m}\u001b[0m\u001b[0;34m\u001b[0m\u001b[0;34m\u001b[0m\u001b[0m\n\u001b[0m\u001b[1;32m    486\u001b[0m \u001b[0;34m\u001b[0m\u001b[0m\n\u001b[1;32m    487\u001b[0m         \u001b[0;32mreturn\u001b[0m \u001b[0mscores\u001b[0m\u001b[0;34m\u001b[0m\u001b[0;34m\u001b[0m\u001b[0m\n",
            "\u001b[0;32m/usr/local/lib/python3.6/dist-packages/rouge/rouge.py\u001b[0m in \u001b[0;36m_get_scores_rouge_l_or_w\u001b[0;34m(self, all_hypothesis, all_references, use_w)\u001b[0m\n\u001b[1;32m    626\u001b[0m                             \u001b[0mreference_count_for_score\u001b[0m \u001b[0;34m=\u001b[0m \u001b[0mreference_count\u001b[0m \u001b[0;34m**\u001b[0m \u001b[0;34m(\u001b[0m\u001b[0;36m1.0\u001b[0m \u001b[0;34m/\u001b[0m \u001b[0mself\u001b[0m\u001b[0;34m.\u001b[0m\u001b[0mweight_factor\u001b[0m\u001b[0;34m)\u001b[0m\u001b[0;34m\u001b[0m\u001b[0;34m\u001b[0m\u001b[0m\n\u001b[1;32m    627\u001b[0m                             \u001b[0moverlapping_ngrams_for_score\u001b[0m \u001b[0;34m=\u001b[0m \u001b[0moverlapping_ngrams\u001b[0m\u001b[0;34m\u001b[0m\u001b[0;34m\u001b[0m\u001b[0m\n\u001b[0;32m--> 628\u001b[0;31m                             \u001b[0mscore_wlcs\u001b[0m \u001b[0;34m=\u001b[0m \u001b[0;34m(\u001b[0m\u001b[0moverlapping_ngrams_for_score\u001b[0m \u001b[0;34m/\u001b[0m \u001b[0mreference_count_for_score\u001b[0m\u001b[0;34m)\u001b[0m \u001b[0;34m**\u001b[0m \u001b[0;34m(\u001b[0m\u001b[0;36m1.0\u001b[0m \u001b[0;34m/\u001b[0m \u001b[0mself\u001b[0m\u001b[0;34m.\u001b[0m\u001b[0mweight_factor\u001b[0m\u001b[0;34m)\u001b[0m\u001b[0;34m\u001b[0m\u001b[0;34m\u001b[0m\u001b[0m\n\u001b[0m\u001b[1;32m    629\u001b[0m \u001b[0;34m\u001b[0m\u001b[0m\n\u001b[1;32m    630\u001b[0m                             \u001b[0;32mif\u001b[0m \u001b[0mbest_current_score_wlcs\u001b[0m \u001b[0;32mis\u001b[0m \u001b[0;32mNone\u001b[0m \u001b[0;32mor\u001b[0m \u001b[0mscore_wlcs\u001b[0m \u001b[0;34m>\u001b[0m \u001b[0mbest_current_score_wlcs\u001b[0m\u001b[0;34m:\u001b[0m\u001b[0;34m\u001b[0m\u001b[0;34m\u001b[0m\u001b[0m\n",
            "\u001b[0;31mZeroDivisionError\u001b[0m: float division by zero"
          ]
        }
      ]
    },
    {
      "metadata": {
        "id": "fQGctqJvnGUF",
        "colab_type": "text"
      },
      "cell_type": "markdown",
      "source": [
        "## Attention Visualization\n",
        "\n",
        "We can also visualize the attention scores of the decoder."
      ]
    },
    {
      "metadata": {
        "id": "auYnZ4slnGUG",
        "colab_type": "code",
        "colab": {}
      },
      "cell_type": "code",
      "source": [
        "def plot_heatmap(src, trg, scores):\n",
        "\n",
        "    fig, ax = plt.subplots()\n",
        "    heatmap = ax.pcolor(scores, cmap='viridis')\n",
        "\n",
        "    ax.set_xticklabels(trg, minor=False, rotation='vertical')\n",
        "    ax.set_yticklabels(src, minor=False)\n",
        "\n",
        "    # put the major ticks at the middle of each cell\n",
        "    # and the x-ticks on top\n",
        "    ax.xaxis.tick_top()\n",
        "    ax.set_xticks(np.arange(scores.shape[1]) + 0.5, minor=False)\n",
        "    ax.set_yticks(np.arange(scores.shape[0]) + 0.5, minor=False)\n",
        "    ax.invert_yaxis()\n",
        "\n",
        "    plt.colorbar(heatmap)\n",
        "    plt.show()"
      ],
      "execution_count": 0,
      "outputs": []
    },
    {
      "metadata": {
        "id": "PVybA0GBnGUI",
        "colab_type": "code",
        "outputId": "52085b3c-955a-457e-d70a-f417b6c28fac",
        "colab": {
          "base_uri": "https://localhost:8080/",
          "height": 367
        }
      },
      "cell_type": "code",
      "source": [
        "# This plots a chosen sentence, for which we saved the attention scores above.\n",
        "idx = 5\n",
        "src = valid_data[idx].src + [\"</s>\"]\n",
        "trg = valid_data[idx].trg + [\"</s>\"]\n",
        "pred = hypotheses[idx].split() + [\"</s>\"]\n",
        "pred_att = alphas[idx][0].T[:, :len(pred)]\n",
        "print(\"src\", src)\n",
        "print(\"ref\", trg)\n",
        "print(\"pred\", pred)\n",
        "plot_heatmap(src, pred, pred_att)"
      ],
      "execution_count": 0,
      "outputs": [
        {
          "output_type": "stream",
          "text": [
            "src ['please', 'welcome', 'steve', 'mccarrel', 'to', 'our', 'portland', 'west', 'origination', 'legal', 'team', '.', ' ', 'steve', 'joins', 'us', 'after', 'spending', 'the', 'last', '4', 'years', 'of', 'his', 'practice', 'with', 'enron', 'broadband', 'services', ',', 'and', ',', 'prior', 'to', 'ebs', ',', 'with', 'portland', 'general', '.', ' ', 'he', 'brings', 'with', 'him', 'an', 'abundance', 'of', 'skill', 'sets', 'and', 'experience', 'in', 'transactional', ',', 'finance', 'and', 'project', 'development', 'work', ',', 'and', 'is', 'an', 'outstanding', 'addition', 'to', 'our', 'team', '.', ' ', 'steve', \"'s\", 'office', 'is', 'between', 'karen', \"'s\", 'and', 'christian', \"'s\", ',', 'and', 'jan', 'will', 'provide', 'his', 'admin', 'support', '.', ' ', 'welcome', 'aboard', ',', 'steve', '!', '</s>']\n",
            "ref ['welcome', 'steve', 'mccarrel', '</s>']\n",
            "pred ['<unk>', '</s>']\n"
          ],
          "name": "stdout"
        },
        {
          "output_type": "display_data",
          "data": {
            "image/png": "[encoded data removed]",
            "text/plain": [
              "<Figure size 432x288 with 2 Axes>"
            ]
          },
          "metadata": {
            "tags": []
          }
        }
      ]
    },
    {
      "metadata": {
        "id": "jeRUtXdBnGUO",
        "colab_type": "text"
      },
      "cell_type": "markdown",
      "source": [
        "# Congratulations! You've finished this notebook.\n",
        "\n",
        "What didn't we cover?\n",
        "\n",
        "- Subwords / Byte Pair Encoding [[paper]](https://arxiv.org/abs/1508.07909) [[github]](https://github.com/rsennrich/subword-nmt) let you deal with unknown words. \n",
        "- You can implement a [multiplicative/bilinear attention mechanism](https://arxiv.org/abs/1508.04025) instead of the additive one used here.\n",
        "- We used greedy decoding here to get translations, but you can get better results with beam search.\n",
        "- The original model only uses a single dropout layer (in the decoder), but you can experiment with adding more dropout layers, for example on the word embeddings and the source word representations.\n",
        "- You can experiment with multiple encoder/decoder layers.- Experiment with a benchmarked and improved codebase: [Joey NMT](https://github.com/joeynmt/joeynmt)"
      ]
    },
    {
      "metadata": {
        "id": "I7Zo_LC5nGUO",
        "colab_type": "text"
      },
      "cell_type": "markdown",
      "source": [
        "If this was useful to your research, please consider citing:\n",
        "\n",
        "> Joost Bastings. 2018. The Annotated Encoder-Decoder with Attention. https://bastings.github.io/annotated_encoder_decoder/\n",
        "\n",
        "Or use the following `Bibtex`:\n",
        "```\n",
        "@misc{bastings2018annotated,\n",
        "  title={The Annotated Encoder-Decoder with Attention},\n",
        "  author={Bastings, Joost},\n",
        "  journal={https://bastings.github.io/annotated\\_encoder\\_decoder/},\n",
        "  year={2018}\n",
        "}```"
      ]
    }
  ]
}