{
 "cells": [
  {
   "cell_type": "markdown",
   "metadata": {},
   "source": [
    "# HW 2: Deep Bag-of-Words\n",
    "\n",
    "![words.jpeg](https://cdn-images-1.medium.com/max/1600/0*JpqZhCNsQ_OGaRkB.jpg)\n",
    "\n",
    "<br>\n",
    "\n",
    "In this homework, you will be implementing a deep averaging network, detailed in [Deep Unordered Composition  Rivals Syntactic Methods for Text Classification by Iyyer et al. (2015)](https://people.cs.umass.edu/~miyyer/pubs/2015_acl_dan.pdf) and training it to do sentiment analysis on the Stanford Sentiment Treebank.\n",
    "\n",
    "<br>\n",
    "\n",
    "**Please use all of the starter code that is provided, do not make any changes to the data processing, evaluation, and training functions. Only add code were you're asked to.**\n",
    "\n",
    "<br>"
   ]
  },
  {
   "cell_type": "markdown",
   "metadata": {},
   "source": [
    "# Part 0: Read Paper!\n",
    "\n",
    "Read [Deep Unordered Composition  Rivals Syntactic Methods for Text Classification by Iyyer et al. (2015)](https://people.cs.umass.edu/~miyyer/pubs/2015_acl_dan.pdf)."
   ]
  },
  {
   "cell_type": "markdown",
   "metadata": {},
   "source": [
    "## Data Processing\n",
    "\n",
    "Make sure you've downloaded the Stanford Sentiment Treebank that was used in lab. You can find it [here](http://nlp.stanford.edu/sentiment/trainDevTestTrees_PTB.zip)."
   ]
  },
  {
   "cell_type": "code",
   "execution_count": 5,
   "metadata": {},
   "outputs": [],
   "source": [
    "import torch\n",
    "import torch.nn as nn\n",
    "import torch.nn.functional as F\n",
    "\n",
    "import re\n",
    "import random\n",
    "\n",
    "random.seed(1)\n",
    "sst_home = 'trees'\n",
    "\n",
    "# Let's do 2-way positive/negative classification instead of 5-way\n",
    "easy_label_map = {0:0, 1:0, 2:None, 3:1, 4:1}\n",
    "    # so labels of 0 and 1 in te 5-wayclassificaiton are 0 in the 2-way. 3 and 4 are 1, and 2 is none\n",
    "    # because we don't have a neautral class. \n",
    "\n",
    "PADDING = \"<PAD>\"\n",
    "UNKNOWN = \"<UNK>\"\n",
    "max_seq_length = 20\n",
    "\n",
    "def load_sst_data(path):\n",
    "    data = []\n",
    "    with open(path) as f:\n",
    "        for i, line in enumerate(f): \n",
    "            example = {}\n",
    "            example['label'] = easy_label_map[int(line[1])]\n",
    "            if example['label'] is None:\n",
    "                continue\n",
    "            \n",
    "            # Strip out the parse information and the phrase labels---we don't need those here\n",
    "            text = re.sub(r'\\s*(\\(\\d)|(\\))\\s*', '', line)\n",
    "            example['text'] = text[1:]\n",
    "            data.append(example)\n",
    "\n",
    "    random.seed(1)\n",
    "    random.shuffle(data)\n",
    "    return data\n",
    "     \n",
    "training_set = load_sst_data(sst_home + '/train.txt')\n",
    "dev_set = load_sst_data(sst_home + '/dev.txt')\n",
    "test_set = load_sst_data(sst_home + '/test.txt')"
   ]
  },
  {
   "cell_type": "markdown",
   "metadata": {},
   "source": [
    "<br>\n",
    "\n",
    "Next, we'll extract the vocabulary from the data, index each token, and finally convert the sentences into lists of indexed tokens. We are also padding and truncating all sentences to be of length=20. (Why? Think about how to handle batching. This is certainly not the only way! This is just simple.)"
   ]
  },
  {
   "cell_type": "code",
   "execution_count": 6,
   "metadata": {},
   "outputs": [],
   "source": [
    "import collections\n",
    "import numpy as np\n",
    "\n",
    "def tokenize(string):\n",
    "    return string.split()\n",
    "\n",
    "def build_dictionary(training_datasets):\n",
    "    \"\"\"\n",
    "    Extract vocabulary and build dictionary.\n",
    "    \"\"\"  \n",
    "    word_counter = collections.Counter()\n",
    "    for i, dataset in enumerate(training_datasets):\n",
    "        for example in dataset:\n",
    "            word_counter.update(tokenize(example['text']))\n",
    "        \n",
    "    vocabulary = set([word for word in word_counter])\n",
    "    vocabulary = list(vocabulary)\n",
    "    vocabulary = [PADDING, UNKNOWN] + vocabulary\n",
    "        \n",
    "    word_indices = dict(zip(vocabulary, range(len(vocabulary))))\n",
    "\n",
    "    return word_indices, len(vocabulary)\n",
    "\n",
    "def sentences_to_padded_index_sequences(word_indices, datasets):\n",
    "    \"\"\"\n",
    "    Annotate datasets with feature vectors. Adding right-sided padding. \n",
    "    \"\"\"\n",
    "    for i, dataset in enumerate(datasets):\n",
    "        for example in dataset:\n",
    "            example['text_index_sequence'] = torch.zeros(max_seq_length)\n",
    "\n",
    "            token_sequence = tokenize(example['text'])\n",
    "            padding = max_seq_length - len(token_sequence)\n",
    "\n",
    "            for i in range(max_seq_length):\n",
    "                if i >= len(token_sequence):\n",
    "                    index = word_indices[PADDING]\n",
    "                    pass\n",
    "                else:\n",
    "                    if token_sequence[i] in word_indices:\n",
    "                        index = word_indices[token_sequence[i]]\n",
    "                    else:\n",
    "                        index = word_indices[UNKNOWN]\n",
    "                example['text_index_sequence'][i] = index\n",
    "\n",
    "            example['text_index_sequence'] = example['text_index_sequence'].long().view(1,-1)\n",
    "            example['label'] = torch.LongTensor([example['label']])\n",
    "\n",
    "\n",
    "word_to_ix, vocab_size = build_dictionary([training_set])\n",
    "sentences_to_padded_index_sequences(word_to_ix, [training_set, dev_set, test_set])"
   ]
  },
  {
   "cell_type": "code",
   "execution_count": 65,
   "metadata": {},
   "outputs": [
    {
     "name": "stdout",
     "output_type": "stream",
     "text": [
      "Size of training dataset: 6920\n",
      "\n",
      "First padded and indexified example in training data:\n",
      " {'label': tensor([0]), 'text': 'Yet another entry in the sentimental oh-those-wacky-Brits genre that was ushered in by The Full Monty and is still straining to produce another smash hit .', 'text_index_sequence': tensor([[ 9528,  3900, 10657,  1974,   153, 11985,  6137,   947,  7656,  8279,\n",
      "          8259,  1974,  7851, 13476,  2108,  8315,  9242,  4143,  8823,  5485]])}\n"
     ]
    },
    {
     "data": {
      "text/plain": [
       "16284"
      ]
     },
     "execution_count": 65,
     "metadata": {},
     "output_type": "execute_result"
    }
   ],
   "source": [
    "print(\"Size of training dataset:\", len(training_set))\n",
    "print(\"\\nFirst padded and indexified example in training data:\\n\", training_set[0])\n",
    "vocab_size"
   ]
  },
  {
   "cell_type": "markdown",
   "metadata": {},
   "source": [
    "<br>\n",
    "### Batichify data\n",
    "We're going to be doign mini-batch training. The following code makes data iterators and a batchifying function."
   ]
  },
  {
   "cell_type": "code",
   "execution_count": 8,
   "metadata": {},
   "outputs": [],
   "source": [
    "# This is the iterator we'll use during training. \n",
    "# It's a generator that gives you one batch at a time.\n",
    "def data_iter(source, batch_size):\n",
    "    dataset_size = len(source)\n",
    "    start = -1 * batch_size\n",
    "    order = list(range(dataset_size))\n",
    "    random.shuffle(order)\n",
    "\n",
    "    while True:\n",
    "        start += batch_size\n",
    "        if start > dataset_size - batch_size:\n",
    "            # Start another epoch.\n",
    "            start = 0\n",
    "            random.shuffle(order)   \n",
    "        batch_indices = order[start:start + batch_size]\n",
    "        batch = [source[index] for index in batch_indices]\n",
    "        yield [source[index] for index in batch_indices]\n",
    "\n",
    "# This is the iterator we use when we're evaluating our model. \n",
    "# It gives a list of batches that you can then iterate through.\n",
    "def eval_iter(source, batch_size):\n",
    "    batches = []\n",
    "    dataset_size = len(source)\n",
    "    start = -1 * batch_size\n",
    "    order = list(range(dataset_size))\n",
    "    random.shuffle(order)\n",
    "\n",
    "    while start < dataset_size - batch_size:\n",
    "        start += batch_size\n",
    "        batch_indices = order[start:start + batch_size]\n",
    "        batch = [source[index] for index in batch_indices]\n",
    "        if len(batch) == batch_size:\n",
    "            batches.append(batch)\n",
    "        else:\n",
    "            continue\n",
    "        \n",
    "    return batches\n",
    "\n",
    "# The following function gives batches of vectors and labels, \n",
    "# these are the inputs to your model and loss function\n",
    "def get_batch(batch):\n",
    "    vectors = []\n",
    "    labels = []\n",
    "    for dict in batch:\n",
    "        vectors.append(dict[\"text_index_sequence\"])\n",
    "        labels.append(dict[\"label\"])\n",
    "    return vectors, labels\n"
   ]
  },
  {
   "cell_type": "markdown",
   "metadata": {},
   "source": [
    "## Evaluation\n",
    "\n",
    "We'll be looking at accuracy as our evaluation metric."
   ]
  },
  {
   "cell_type": "code",
   "execution_count": 9,
   "metadata": {},
   "outputs": [],
   "source": [
    "# This function outputs the accuracy on the dataset, we will use it during training.\n",
    "def evaluate(model, data_iter):\n",
    "    model.eval()\n",
    "    correct = 0\n",
    "    total = 0\n",
    "    for i in range(len(data_iter)):\n",
    "        vectors, labels = get_batch(data_iter[i])\n",
    "        vectors = torch.stack(vectors).squeeze()\n",
    "        labels = torch.stack(labels).squeeze()\n",
    "\n",
    "        output = model(vectors)\n",
    "        \n",
    "        _, predicted = torch.max(output.data, 1)\n",
    "        total += labels.size(0)\n",
    "        correct += (predicted == labels).sum().item()\n",
    "      \n",
    "    return correct / float(total)"
   ]
  },
  {
   "cell_type": "code",
   "execution_count": null,
   "metadata": {},
   "outputs": [],
   "source": []
  },
  {
   "cell_type": "markdown",
   "metadata": {},
   "source": [
    "<br>\n",
    "\n",
    "## Training Loop\n",
    "\n",
    "The following function trains the model and reports model accuracy on the train and dev set every 5 epochs."
   ]
  },
  {
   "cell_type": "code",
   "execution_count": 252,
   "metadata": {},
   "outputs": [],
   "source": [
    "def training_loop(batch_size, num_epochs, model, loss_, optim, training_iter, dev_iter,\n",
    "                  train_eval_iter, verbose=True):\n",
    "    step = 0\n",
    "    epoch = 0\n",
    "    total_batches = int(len(training_set) / batch_size)\n",
    "    accuracies = []\n",
    "    while epoch <= num_epochs:\n",
    "        model.train()\n",
    "        vectors, labels = get_batch(next(training_iter)) \n",
    "        vectors = torch.stack(vectors).squeeze() # batch_size, seq_len\n",
    "        labels = torch.stack(labels).squeeze()\n",
    "        \n",
    "    \n",
    "        model.zero_grad()\n",
    "        \n",
    "        output = model(vectors)\n",
    "\n",
    "        lossy = loss_(output, labels)\n",
    "        lossy.backward()\n",
    "        torch.nn.utils.clip_grad_norm_(model.parameters(), 5.0)\n",
    "        optim.step()\n",
    "        \n",
    "\n",
    "        if step % total_batches == 0:\n",
    "            model.eval()\n",
    "            if epoch % 5 == 0:\n",
    "                train_acc = evaluate(model, train_eval_iter)\n",
    "                eval_acc = evaluate(model, dev_iter)\n",
    "                accuracies.append(eval_acc)\n",
    "                if verbose:\n",
    "                    print(\"Epoch %i; Step %i; Loss %f; Train acc: %f; Dev acc %f\" \n",
    "                          %(epoch, step, lossy.item() ,\\\n",
    "                            train_acc, eval_acc))\n",
    "            epoch += 1\n",
    "        step += 1\n",
    "    \n",
    "    best_dev = max(accuracies)\n",
    "    print(\"Best dev accuracy is {}\".format(best_dev))\n",
    "    return best_dev"
   ]
  },
  {
   "cell_type": "markdown",
   "metadata": {},
   "source": [
    "<br>\n",
    "\n",
    "# Part 1: Implement DAN (40 points)\n",
    "\n",
    "Following the [paper](https://people.cs.umass.edu/~miyyer/pubs/2015_acl_dan.pdf), implement the Deep Averaging Network (DAN).\n",
    "\n",
    "Implementation details,\n",
    "- Instead of using \\code{tanh} activations however, use \\code{ReLU}. \n",
    "- Make the number of layers a variable, not a fixed value.\n",
    "- Make sure to implement word-dropout."
   ]
  },
  {
   "cell_type": "code",
   "execution_count": 349,
   "metadata": {},
   "outputs": [],
   "source": [
    "class DAN(nn.Module):\n",
    "    def __init__(self, vocab_size, embedding_dim, hidden_size, output_size, \n",
    "                 batch_size, n_layers, drop_rate):\n",
    "        super(DAN, self).__init__()\n",
    "        \n",
    "        self.embed = nn.Embedding(vocab_size, embedding_dim, padding_idx=0)\n",
    "        self.embedding_size = embedding_dim\n",
    "        self.hidden_size = hidden_size\n",
    "        self.output_size = output_size\n",
    "        self.batch_size = batch_size\n",
    "        self.n_layers = n_layers\n",
    "        self.drop_rate = drop_rate\n",
    "        self.activation = nn.ReLU()\n",
    "        \n",
    "        \"\"\"\n",
    "        YOUR CODE GOES HERE\n",
    "        \n",
    "        \"\"\"\n",
    "        self.layer_0 = nn.Linear(embedding_dim,hidden_size)\n",
    "        \n",
    "\n",
    "        for i in range(hidden_size-1):\n",
    "            setattr(self, 'l{}'.format(i), nn.Linear(hidden_size,hidden_size))\n",
    "        \n",
    "            \n",
    "        self.decoder = nn.Linear(hidden_size,output_size)\n",
    "        self.init_weights()\n",
    "    \n",
    "    def drop_out(self,x):\n",
    "            mask = np.random.binomial(1,self.drop_rate, x.shape[1])\n",
    "            # generate bernoulli with number of words in each sentence\n",
    "            x_dropout = torch.tensor(mask[:, np.newaxis]).float() * x\n",
    "            return x_dropout\n",
    "        \n",
    "    def forward(self,x):\n",
    "        \"\"\"\n",
    "        YOUR CODE GOES HERE\n",
    "        \"\"\"\n",
    "        output = torch.zeros((self.batch_size, self.output_size))\n",
    "        requires_grad=True\n",
    "        \n",
    "        x_emb = self.embed(x)  \n",
    "\n",
    "        # make sure dropout only go through train_iter, not eval_iter\n",
    "        if self.training:\n",
    "            x_emb = self.drop_out(x_emb)\n",
    "        \n",
    "        a_v = torch.mean(x_emb,dim=1)\n",
    "\n",
    "        hidden = self.activation(self.layer_0(a_v))\n",
    "       \n",
    "        for i in range(1, self.n_layers):\n",
    "            func = getattr(self, 'l{}'.format(i))\n",
    "            hidden = torch.mm(hidden, func.weight)+func.bias\n",
    "            hidden = self.activation(hidden)\n",
    "            \n",
    "        \n",
    "        output = self.decoder(hidden)\n",
    "        \n",
    "        return output\n",
    "\n",
    "    def init_hidden(self):\n",
    "        h0 = torch.zeros(self.batch_size, self.hidden_size)\n",
    "        \n",
    "        return h0\n",
    "    \n",
    "    def init_weights(self):\n",
    "        initrange = 0.1\n",
    "        lin_layers = [self.layer_0, self.decoder]\n",
    "        for i in range(1, self.n_layers):\n",
    "            lin_layers.append(getattr(self, 'l{}'.format(i)))\n",
    "        em_layer =  [self.embed]\n",
    "     \n",
    "        for layer in lin_layers+em_layer:\n",
    "            layer.weight.data.uniform_(-initrange, initrange)\n",
    "            if layer in lin_layers:\n",
    "                layer.bias.data.fill_(0)"
   ]
  },
  {
   "cell_type": "markdown",
   "metadata": {},
   "source": [
    "### Train the model!\n",
    "\n",
    "** Please use the hyperparameters and optimizer provided below. Do not make changes here. **"
   ]
  },
  {
   "cell_type": "code",
   "execution_count": 350,
   "metadata": {},
   "outputs": [
    {
     "name": "stdout",
     "output_type": "stream",
     "text": [
      "Epoch 0; Step 0; Loss 0.693146; Train acc: 0.488281; Dev acc 0.546875\n",
      "Epoch 5; Step 135; Loss 0.673497; Train acc: 0.488281; Dev acc 0.546875\n",
      "Epoch 10; Step 270; Loss 0.471621; Train acc: 0.847656; Dev acc 0.804688\n",
      "Epoch 15; Step 405; Loss 0.268915; Train acc: 0.949219; Dev acc 0.804688\n",
      "Epoch 20; Step 540; Loss 0.252062; Train acc: 0.964844; Dev acc 0.816406\n",
      "Epoch 25; Step 675; Loss 0.155931; Train acc: 0.980469; Dev acc 0.816406\n",
      "Epoch 30; Step 810; Loss 0.227976; Train acc: 0.984375; Dev acc 0.812500\n",
      "Best dev accuracy is 0.81640625\n"
     ]
    },
    {
     "data": {
      "text/plain": [
       "0.81640625"
      ]
     },
     "execution_count": 350,
     "metadata": {},
     "output_type": "execute_result"
    }
   ],
   "source": [
    "# Hyperparameters \n",
    "input_size = vocab_size\n",
    "num_labels = 2\n",
    "hidden_dim = 24\n",
    "embedding_dim = 8\n",
    "batch_size = 256\n",
    "num_layers = 2\n",
    "learning_rate = 0.001\n",
    "drop_rate = 0.4\n",
    "num_epochs = 30\n",
    "\n",
    "\n",
    "# Build and initialize the model\n",
    "dan = DAN(vocab_size, embedding_dim, hidden_dim, num_labels, batch_size, num_layers, drop_rate)\n",
    "dan.init_weights()\n",
    "\n",
    "# Define loss function and optimizer\n",
    "loss = nn.CrossEntropyLoss()  \n",
    "optimizer = torch.optim.Adam(dan.parameters(), lr=learning_rate)\n",
    "\n",
    "# Build data iterators\n",
    "training_iter = data_iter(training_set, batch_size)\n",
    "train_eval_iter = eval_iter(training_set[0:500], batch_size)\n",
    "dev_iter = eval_iter(dev_set[:500], batch_size)\n",
    "\n",
    "# Train the model\n",
    "training_loop(batch_size, num_epochs, dan, loss, optimizer, training_iter, dev_iter, train_eval_iter)"
   ]
  },
  {
   "cell_type": "markdown",
   "metadata": {},
   "source": [
    "<br>\n",
    "\n",
    "# Part 2: Hyperparameter tuning (40 points)\n",
    "\n",
    "Tune the DAN for learning rate, number of layers, and drop-out rate. Select a range for each parameter and then do a random search over these hyperparameters, trying a minimum 5 permutations of hyperparameters. Report results and the best hyperparameters you found. Do you see any patterns in your results?"
   ]
  },
  {
   "cell_type": "code",
   "execution_count": 324,
   "metadata": {},
   "outputs": [
    {
     "name": "stdout",
     "output_type": "stream",
     "text": [
      "Epoch 0; Step 0; Loss 0.693146; Train acc: 0.535156; Dev acc 0.539062\n",
      "Epoch 5; Step 135; Loss 0.691662; Train acc: 0.535156; Dev acc 0.539062\n",
      "Epoch 10; Step 270; Loss 0.695426; Train acc: 0.535156; Dev acc 0.539062\n",
      "Epoch 15; Step 405; Loss 0.693902; Train acc: 0.535156; Dev acc 0.539062\n",
      "Epoch 20; Step 540; Loss 0.689629; Train acc: 0.535156; Dev acc 0.539062\n",
      "Epoch 25; Step 675; Loss 0.689568; Train acc: 0.535156; Dev acc 0.539062\n",
      "Epoch 30; Step 810; Loss 0.692056; Train acc: 0.535156; Dev acc 0.539062\n",
      "Best dev accuracy is 0.5390625\n",
      "Epoch 0; Step 0; Loss 0.693146; Train acc: 0.539062; Dev acc 0.472656\n",
      "Epoch 5; Step 135; Loss 0.692445; Train acc: 0.539062; Dev acc 0.472656\n",
      "Epoch 10; Step 270; Loss 0.688587; Train acc: 0.539062; Dev acc 0.472656\n",
      "Epoch 15; Step 405; Loss 0.690858; Train acc: 0.539062; Dev acc 0.472656\n",
      "Epoch 20; Step 540; Loss 0.690279; Train acc: 0.539062; Dev acc 0.472656\n",
      "Epoch 25; Step 675; Loss 0.689154; Train acc: 0.539062; Dev acc 0.472656\n",
      "Epoch 30; Step 810; Loss 0.688166; Train acc: 0.539062; Dev acc 0.472656\n",
      "Best dev accuracy is 0.47265625\n",
      "Epoch 0; Step 0; Loss 0.693146; Train acc: 0.511719; Dev acc 0.550781\n",
      "Epoch 5; Step 135; Loss 0.692807; Train acc: 0.511719; Dev acc 0.550781\n",
      "Epoch 10; Step 270; Loss 0.692718; Train acc: 0.511719; Dev acc 0.550781\n",
      "Epoch 15; Step 405; Loss 0.691151; Train acc: 0.511719; Dev acc 0.550781\n",
      "Epoch 20; Step 540; Loss 0.687517; Train acc: 0.511719; Dev acc 0.550781\n",
      "Epoch 25; Step 675; Loss 0.679694; Train acc: 0.511719; Dev acc 0.550781\n",
      "Epoch 30; Step 810; Loss 0.624051; Train acc: 0.597656; Dev acc 0.636719\n",
      "Best dev accuracy is 0.63671875\n",
      "Epoch 0; Step 0; Loss 0.693146; Train acc: 0.476562; Dev acc 0.468750\n",
      "Epoch 5; Step 135; Loss 0.687943; Train acc: 0.523438; Dev acc 0.531250\n",
      "Epoch 10; Step 270; Loss 0.685949; Train acc: 0.523438; Dev acc 0.531250\n",
      "Epoch 15; Step 405; Loss 0.693721; Train acc: 0.523438; Dev acc 0.531250\n",
      "Epoch 20; Step 540; Loss 0.693360; Train acc: 0.523438; Dev acc 0.531250\n",
      "Epoch 25; Step 675; Loss 0.691243; Train acc: 0.523438; Dev acc 0.531250\n",
      "Epoch 30; Step 810; Loss 0.694756; Train acc: 0.523438; Dev acc 0.531250\n",
      "Best dev accuracy is 0.53125\n",
      "Epoch 0; Step 0; Loss 0.693148; Train acc: 0.496094; Dev acc 0.570312\n",
      "Epoch 5; Step 135; Loss 0.231584; Train acc: 0.882812; Dev acc 0.765625\n",
      "Epoch 10; Step 270; Loss 0.022026; Train acc: 0.988281; Dev acc 0.812500\n",
      "Epoch 15; Step 405; Loss 0.032746; Train acc: 0.988281; Dev acc 0.812500\n",
      "Epoch 20; Step 540; Loss 0.003603; Train acc: 1.000000; Dev acc 0.789062\n",
      "Epoch 25; Step 675; Loss 0.013604; Train acc: 0.996094; Dev acc 0.804688\n",
      "Epoch 30; Step 810; Loss 0.002001; Train acc: 0.992188; Dev acc 0.789062\n",
      "Best dev accuracy is 0.8125\n"
     ]
    }
   ],
   "source": [
    "\"\"\"\n",
    "YOUR CODE GOES HERE\n",
    "\"\"\"\n",
    "# select a range for each parameter.\n",
    "learning_rate_list = np.arange(0.0001,0.01,0.001)\n",
    "drop_rate_list = np.arange(0.1,1.1,0.1)\n",
    "n_layers_list = np.arange(2,22,2)\n",
    "\n",
    "# randint generate index for each parameter group, and try 5 different combinations \n",
    "random.seed(2860)\n",
    "index_learning = np.random.randint(10, size=5)\n",
    "index_drop = np.random.randint(10, size=5)\n",
    "index_layers = np.random.randint(10, size=5)\n",
    "\n",
    "learning_list = learning_rate_list[index_learning]\n",
    "drop_list = drop_rate_list[index_drop]\n",
    "layers_list = n_layers_list[index_layers]\n",
    "\n",
    "# iterate over all parameter group to generate a permutation\n",
    "for i in range(5):\n",
    "    dan = DAN(vocab_size, embedding_dim, hidden_dim, num_labels, batch_size, layers_list[i], drop_list[i])\n",
    "    dan.init_weights()\n",
    "\n",
    "    # Define loss function and optimizer\n",
    "    loss = nn.CrossEntropyLoss()  \n",
    "    optimizer = torch.optim.Adam(dan.parameters(), lr=learning_list[i])\n",
    "\n",
    "    # Build data iterators\n",
    "    training_iter = data_iter(training_set, batch_size)\n",
    "    train_eval_iter = eval_iter(training_set[0:500], batch_size)\n",
    "    dev_iter = eval_iter(dev_set[:500], batch_size)\n",
    "\n",
    "    # Train the model\n",
    "    training_loop(batch_size, num_epochs, dan, loss, optimizer, training_iter, dev_iter, train_eval_iter)"
   ]
  },
  {
   "cell_type": "code",
   "execution_count": 327,
   "metadata": {
    "scrolled": true
   },
   "outputs": [
    {
     "name": "stdout",
     "output_type": "stream",
     "text": [
      "the best results is: 0.8125 with learning rate: 0.0061 drop rate: 0.30000000000000004 and num layers: 4\n"
     ]
    }
   ],
   "source": [
    "print('the best results is: 0.8125', 'with learning rate:',learning_list[4],'drop rate:',drop_list[4],'and num layers:',layers_list[4])"
   ]
  },
  {
   "cell_type": "markdown",
   "metadata": {},
   "source": [
    "<br>\n",
    "\n",
    "# Part 3: short questions (20 points)"
   ]
  },
  {
   "cell_type": "markdown",
   "metadata": {},
   "source": [
    "1. Name, and briefly describe, 3 other possible composition functions, instead of the DAN, you could use to build sentence representations.\n",
    "2. Explain how dropout regularizes a model.\n",
    "3. What are the shortcomings for training for a fixed number of epochs? Give an alternative.\n",
    "4. Explain why you might use random search rather than grid search.\n",
    "\n",
    "_Bonus (5 points): briefly describe the Nelder–Mead method and how you might use it to do hyperparamter tuning. What are the tradeoffs between using Nelder-Mead vs random search?_"
   ]
  },
  {
   "cell_type": "markdown",
   "metadata": {},
   "source": [
    "1.  - RecRnn: A recurrent neural network that place softmax layers above every internal node to avoid vanishing gradient issues.\n",
    "    - Tree-LSTM: Improves RNN architectures to learn long-term dependencies.\n",
    "    - RecNTN: a recursive neural network which relies on external structural features given by a parse tree and perform best among the RecRNNs.\n",
    "    - GRU: a gating mechanism in recurrent nerual network with forget gate that has fewer parameter than LSTM.\n",
    "\n",
    "2. In dropout process, randomly selected neurons are ignored during training. Dropout regularizes by making the training process noisy, forcing nodes within a layer to probabilistically take more or less responsibility to the inputs. Then the neurons become less sensitive to specific weights of neurons.\n",
    "\n",
    "3. When epochs number is too small, it will not be trained sufficiently. When the epochs number is too large, the model tends to overfit. Alternatives: early stopping(not overfitting,loss-reduced converges to a certain range, accuracy not improved after 'n' epochs, etc), regularizations(dropout), use reinforcement learning.\n",
    "\n",
    "4. Compared to grid search, random search can solve larg-scale problems efficiently and save computational cost, since it is highly likely that the whole action space has been reached because of the randomness.\n",
    "\n",
    "Bonus: \n",
    "- Nelder-Mead method is an optimization method that minimizes the objective function by repeating its evaluation at each vertex of the simplex and by replacing points according to reflection, expansion, contraction and shrinking procedure.\n",
    "- Using Nelder-Mead method saves search space. Compared to random search, there is no injected randomness, but allows for noisy loss measurements.\n",
    "- On the other side, although it practically proves to be effective, there is no general convergence theory."
   ]
  },
  {
   "cell_type": "code",
   "execution_count": null,
   "metadata": {},
   "outputs": [],
   "source": []
  }
 ],
 "metadata": {
  "kernelspec": {
   "display_name": "Python 3",
   "language": "python",
   "name": "python3"
  },
  "language_info": {
   "codemirror_mode": {
    "name": "ipython",
    "version": 3
   },
   "file_extension": ".py",
   "mimetype": "text/x-python",
   "name": "python",
   "nbconvert_exporter": "python",
   "pygments_lexer": "ipython3",
   "version": "3.7.1"
  }
 },
 "nbformat": 4,
 "nbformat_minor": 2
}
